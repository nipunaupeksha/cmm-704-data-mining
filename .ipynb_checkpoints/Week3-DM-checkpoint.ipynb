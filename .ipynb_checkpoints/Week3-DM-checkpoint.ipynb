{
 "cells": [
  {
   "cell_type": "markdown",
   "metadata": {
    "id": "KBErFjgBnby5"
   },
   "source": []
  },
  {
   "cell_type": "code",
   "execution_count": 101,
   "metadata": {
    "executionInfo": {
     "elapsed": 1245,
     "status": "ok",
     "timestamp": 1612841476666,
     "user": {
      "displayName": "Subha Fernando",
      "photoUrl": "",
      "userId": "09410483156944025816"
     },
     "user_tz": -330
    },
    "id": "rdGJDc0hnfMb"
   },
   "outputs": [],
   "source": [
    "from sklearn import linear_model\n",
    "from sklearn import datasets\n",
    "from sklearn import preprocessing\n",
    "import pandas as pd\n",
    "import numpy as np\n",
    "from sklearn.preprocessing import StandardScaler"
   ]
  },
  {
   "cell_type": "markdown",
   "metadata": {
    "id": "Luui2fzDdeFe"
   },
   "source": []
  },
  {
   "cell_type": "code",
   "execution_count": 102,
   "metadata": {
    "colab": {
     "base_uri": "https://localhost:8080/"
    },
    "executionInfo": {
     "elapsed": 3073,
     "status": "ok",
     "timestamp": 1612841478502,
     "user": {
      "displayName": "Subha Fernando",
      "photoUrl": "",
      "userId": "09410483156944025816"
     },
     "user_tz": -330
    },
    "id": "EErsFh0vnlW5",
    "outputId": "7d6b8fe6-9084-4eed-9e55-f5060a3cadf9"
   },
   "outputs": [
    {
     "name": "stdout",
     "output_type": "stream",
     "text": [
      ".. _boston_dataset:\n",
      "\n",
      "Boston house prices dataset\n",
      "---------------------------\n",
      "\n",
      "**Data Set Characteristics:**  \n",
      "\n",
      "    :Number of Instances: 506 \n",
      "\n",
      "    :Number of Attributes: 13 numeric/categorical predictive. Median Value (attribute 14) is usually the target.\n",
      "\n",
      "    :Attribute Information (in order):\n",
      "        - CRIM     per capita crime rate by town\n",
      "        - ZN       proportion of residential land zoned for lots over 25,000 sq.ft.\n",
      "        - INDUS    proportion of non-retail business acres per town\n",
      "        - CHAS     Charles River dummy variable (= 1 if tract bounds river; 0 otherwise)\n",
      "        - NOX      nitric oxides concentration (parts per 10 million)\n",
      "        - RM       average number of rooms per dwelling\n",
      "        - AGE      proportion of owner-occupied units built prior to 1940\n",
      "        - DIS      weighted distances to five Boston employment centres\n",
      "        - RAD      index of accessibility to radial highways\n",
      "        - TAX      full-value property-tax rate per $10,000\n",
      "        - PTRATIO  pupil-teacher ratio by town\n",
      "        - B        1000(Bk - 0.63)^2 where Bk is the proportion of blacks by town\n",
      "        - LSTAT    % lower status of the population\n",
      "        - MEDV     Median value of owner-occupied homes in $1000's\n",
      "\n",
      "    :Missing Attribute Values: None\n",
      "\n",
      "    :Creator: Harrison, D. and Rubinfeld, D.L.\n",
      "\n",
      "This is a copy of UCI ML housing dataset.\n",
      "https://archive.ics.uci.edu/ml/machine-learning-databases/housing/\n",
      "\n",
      "\n",
      "This dataset was taken from the StatLib library which is maintained at Carnegie Mellon University.\n",
      "\n",
      "The Boston house-price data of Harrison, D. and Rubinfeld, D.L. 'Hedonic\n",
      "prices and the demand for clean air', J. Environ. Economics & Management,\n",
      "vol.5, 81-102, 1978.   Used in Belsley, Kuh & Welsch, 'Regression diagnostics\n",
      "...', Wiley, 1980.   N.B. Various transformations are used in the table on\n",
      "pages 244-261 of the latter.\n",
      "\n",
      "The Boston house-price data has been used in many machine learning papers that address regression\n",
      "problems.   \n",
      "     \n",
      ".. topic:: References\n",
      "\n",
      "   - Belsley, Kuh & Welsch, 'Regression diagnostics: Identifying Influential Data and Sources of Collinearity', Wiley, 1980. 244-261.\n",
      "   - Quinlan,R. (1993). Combining Instance-Based and Model-Based Learning. In Proceedings on the Tenth International Conference of Machine Learning, 236-243, University of Massachusetts, Amherst. Morgan Kaufmann.\n",
      "\n"
     ]
    }
   ],
   "source": [
    "data_set = datasets.load_boston()\n",
    "print(data_set.DESCR)"
   ]
  },
  {
   "cell_type": "code",
   "execution_count": 103,
   "metadata": {
    "colab": {
     "base_uri": "https://localhost:8080/"
    },
    "executionInfo": {
     "elapsed": 3066,
     "status": "ok",
     "timestamp": 1612841478503,
     "user": {
      "displayName": "Subha Fernando",
      "photoUrl": "",
      "userId": "09410483156944025816"
     },
     "user_tz": -330
    },
    "id": "MZM4G_IaJ3Qe",
    "outputId": "ac84ef84-e980-49fc-bbd6-d12bce29c84f"
   },
   "outputs": [
    {
     "data": {
      "text/plain": [
       "dtype('float64')"
      ]
     },
     "execution_count": 103,
     "metadata": {
      "tags": []
     },
     "output_type": "execute_result"
    }
   ],
   "source": [
    "data_set.feature_names\n",
    "data_set.data.dtype"
   ]
  },
  {
   "cell_type": "code",
   "execution_count": 104,
   "metadata": {
    "colab": {
     "base_uri": "https://localhost:8080/",
     "height": 563
    },
    "executionInfo": {
     "elapsed": 3057,
     "status": "ok",
     "timestamp": 1612841478504,
     "user": {
      "displayName": "Subha Fernando",
      "photoUrl": "",
      "userId": "09410483156944025816"
     },
     "user_tz": -330
    },
    "id": "pRzU_IwYntJN",
    "outputId": "e4eb2987-067b-463b-c5c0-495d89c34918"
   },
   "outputs": [
    {
     "name": "stdout",
     "output_type": "stream",
     "text": [
      "      CRIM    ZN  INDUS  CHAS    NOX  ...  RAD    TAX  PTRATIO       B  LSTAT\n",
      "0  0.00632  18.0   2.31   0.0  0.538  ...  1.0  296.0     15.3  396.90   4.98\n",
      "1  0.02731   0.0   7.07   0.0  0.469  ...  2.0  242.0     17.8  396.90   9.14\n",
      "2  0.02729   0.0   7.07   0.0  0.469  ...  2.0  242.0     17.8  392.83   4.03\n",
      "3  0.03237   0.0   2.18   0.0  0.458  ...  3.0  222.0     18.7  394.63   2.94\n",
      "4  0.06905   0.0   2.18   0.0  0.458  ...  3.0  222.0     18.7  396.90   5.33\n",
      "5  0.02985   0.0   2.18   0.0  0.458  ...  3.0  222.0     18.7  394.12   5.21\n",
      "6  0.08829  12.5   7.87   0.0  0.524  ...  5.0  311.0     15.2  395.60  12.43\n",
      "7  0.14455  12.5   7.87   0.0  0.524  ...  5.0  311.0     15.2  396.90  19.15\n",
      "8  0.21124  12.5   7.87   0.0  0.524  ...  5.0  311.0     15.2  386.63  29.93\n",
      "9  0.17004  12.5   7.87   0.0  0.524  ...  5.0  311.0     15.2  386.71  17.10\n",
      "\n",
      "[10 rows x 13 columns]\n"
     ]
    },
    {
     "data": {
      "text/html": [
       "<div>\n",
       "<style scoped>\n",
       "    .dataframe tbody tr th:only-of-type {\n",
       "        vertical-align: middle;\n",
       "    }\n",
       "\n",
       "    .dataframe tbody tr th {\n",
       "        vertical-align: top;\n",
       "    }\n",
       "\n",
       "    .dataframe thead th {\n",
       "        text-align: right;\n",
       "    }\n",
       "</style>\n",
       "<table border=\"1\" class=\"dataframe\">\n",
       "  <thead>\n",
       "    <tr style=\"text-align: right;\">\n",
       "      <th></th>\n",
       "      <th>MEDV</th>\n",
       "    </tr>\n",
       "  </thead>\n",
       "  <tbody>\n",
       "    <tr>\n",
       "      <th>496</th>\n",
       "      <td>19.7</td>\n",
       "    </tr>\n",
       "    <tr>\n",
       "      <th>497</th>\n",
       "      <td>18.3</td>\n",
       "    </tr>\n",
       "    <tr>\n",
       "      <th>498</th>\n",
       "      <td>21.2</td>\n",
       "    </tr>\n",
       "    <tr>\n",
       "      <th>499</th>\n",
       "      <td>17.5</td>\n",
       "    </tr>\n",
       "    <tr>\n",
       "      <th>500</th>\n",
       "      <td>16.8</td>\n",
       "    </tr>\n",
       "    <tr>\n",
       "      <th>501</th>\n",
       "      <td>22.4</td>\n",
       "    </tr>\n",
       "    <tr>\n",
       "      <th>502</th>\n",
       "      <td>20.6</td>\n",
       "    </tr>\n",
       "    <tr>\n",
       "      <th>503</th>\n",
       "      <td>23.9</td>\n",
       "    </tr>\n",
       "    <tr>\n",
       "      <th>504</th>\n",
       "      <td>22.0</td>\n",
       "    </tr>\n",
       "    <tr>\n",
       "      <th>505</th>\n",
       "      <td>11.9</td>\n",
       "    </tr>\n",
       "  </tbody>\n",
       "</table>\n",
       "</div>"
      ],
      "text/plain": [
       "     MEDV\n",
       "496  19.7\n",
       "497  18.3\n",
       "498  21.2\n",
       "499  17.5\n",
       "500  16.8\n",
       "501  22.4\n",
       "502  20.6\n",
       "503  23.9\n",
       "504  22.0\n",
       "505  11.9"
      ]
     },
     "execution_count": 104,
     "metadata": {
      "tags": []
     },
     "output_type": "execute_result"
    }
   ],
   "source": [
    "# define the data/predictors as the pre-set feature names  \n",
    "df = pd.DataFrame(data_set.data, columns=data_set.feature_names)\n",
    "print(df.head(10))\n",
    "\n",
    "# Put the target (housing value -- MEDV) in another DataFrame\n",
    "target = pd.DataFrame(data_set.target, columns=[\"MEDV\"])\n",
    "target.tail(10)"
   ]
  },
  {
   "cell_type": "code",
   "execution_count": 105,
   "metadata": {
    "colab": {
     "base_uri": "https://localhost:8080/",
     "height": 345
    },
    "executionInfo": {
     "elapsed": 3048,
     "status": "ok",
     "timestamp": 1612841478504,
     "user": {
      "displayName": "Subha Fernando",
      "photoUrl": "",
      "userId": "09410483156944025816"
     },
     "user_tz": -330
    },
    "id": "tyBnDfFvnyyd",
    "outputId": "6c802e01-dd84-41b5-cfca-4812bfaf0e75"
   },
   "outputs": [
    {
     "data": {
      "text/html": [
       "<div>\n",
       "<style scoped>\n",
       "    .dataframe tbody tr th:only-of-type {\n",
       "        vertical-align: middle;\n",
       "    }\n",
       "\n",
       "    .dataframe tbody tr th {\n",
       "        vertical-align: top;\n",
       "    }\n",
       "\n",
       "    .dataframe thead th {\n",
       "        text-align: right;\n",
       "    }\n",
       "</style>\n",
       "<table border=\"1\" class=\"dataframe\">\n",
       "  <thead>\n",
       "    <tr style=\"text-align: right;\">\n",
       "      <th></th>\n",
       "      <th>CRIM</th>\n",
       "      <th>ZN</th>\n",
       "      <th>INDUS</th>\n",
       "      <th>CHAS</th>\n",
       "      <th>NOX</th>\n",
       "      <th>RM</th>\n",
       "      <th>AGE</th>\n",
       "      <th>DIS</th>\n",
       "      <th>RAD</th>\n",
       "      <th>TAX</th>\n",
       "      <th>PTRATIO</th>\n",
       "      <th>B</th>\n",
       "      <th>LSTAT</th>\n",
       "    </tr>\n",
       "  </thead>\n",
       "  <tbody>\n",
       "    <tr>\n",
       "      <th>0</th>\n",
       "      <td>0.00632</td>\n",
       "      <td>18.0</td>\n",
       "      <td>2.31</td>\n",
       "      <td>0.0</td>\n",
       "      <td>0.538</td>\n",
       "      <td>6.575</td>\n",
       "      <td>65.2</td>\n",
       "      <td>4.0900</td>\n",
       "      <td>1.0</td>\n",
       "      <td>296.0</td>\n",
       "      <td>15.3</td>\n",
       "      <td>396.90</td>\n",
       "      <td>4.98</td>\n",
       "    </tr>\n",
       "    <tr>\n",
       "      <th>1</th>\n",
       "      <td>0.02731</td>\n",
       "      <td>0.0</td>\n",
       "      <td>7.07</td>\n",
       "      <td>0.0</td>\n",
       "      <td>0.469</td>\n",
       "      <td>6.421</td>\n",
       "      <td>78.9</td>\n",
       "      <td>4.9671</td>\n",
       "      <td>2.0</td>\n",
       "      <td>242.0</td>\n",
       "      <td>17.8</td>\n",
       "      <td>396.90</td>\n",
       "      <td>9.14</td>\n",
       "    </tr>\n",
       "    <tr>\n",
       "      <th>2</th>\n",
       "      <td>0.02729</td>\n",
       "      <td>0.0</td>\n",
       "      <td>7.07</td>\n",
       "      <td>0.0</td>\n",
       "      <td>0.469</td>\n",
       "      <td>7.185</td>\n",
       "      <td>61.1</td>\n",
       "      <td>4.9671</td>\n",
       "      <td>2.0</td>\n",
       "      <td>242.0</td>\n",
       "      <td>17.8</td>\n",
       "      <td>392.83</td>\n",
       "      <td>4.03</td>\n",
       "    </tr>\n",
       "    <tr>\n",
       "      <th>3</th>\n",
       "      <td>0.03237</td>\n",
       "      <td>0.0</td>\n",
       "      <td>2.18</td>\n",
       "      <td>0.0</td>\n",
       "      <td>0.458</td>\n",
       "      <td>6.998</td>\n",
       "      <td>45.8</td>\n",
       "      <td>6.0622</td>\n",
       "      <td>3.0</td>\n",
       "      <td>222.0</td>\n",
       "      <td>18.7</td>\n",
       "      <td>394.63</td>\n",
       "      <td>2.94</td>\n",
       "    </tr>\n",
       "    <tr>\n",
       "      <th>4</th>\n",
       "      <td>0.06905</td>\n",
       "      <td>0.0</td>\n",
       "      <td>2.18</td>\n",
       "      <td>0.0</td>\n",
       "      <td>0.458</td>\n",
       "      <td>7.147</td>\n",
       "      <td>54.2</td>\n",
       "      <td>6.0622</td>\n",
       "      <td>3.0</td>\n",
       "      <td>222.0</td>\n",
       "      <td>18.7</td>\n",
       "      <td>396.90</td>\n",
       "      <td>5.33</td>\n",
       "    </tr>\n",
       "    <tr>\n",
       "      <th>5</th>\n",
       "      <td>0.02985</td>\n",
       "      <td>0.0</td>\n",
       "      <td>2.18</td>\n",
       "      <td>0.0</td>\n",
       "      <td>0.458</td>\n",
       "      <td>6.430</td>\n",
       "      <td>58.7</td>\n",
       "      <td>6.0622</td>\n",
       "      <td>3.0</td>\n",
       "      <td>222.0</td>\n",
       "      <td>18.7</td>\n",
       "      <td>394.12</td>\n",
       "      <td>5.21</td>\n",
       "    </tr>\n",
       "    <tr>\n",
       "      <th>6</th>\n",
       "      <td>0.08829</td>\n",
       "      <td>12.5</td>\n",
       "      <td>7.87</td>\n",
       "      <td>0.0</td>\n",
       "      <td>0.524</td>\n",
       "      <td>6.012</td>\n",
       "      <td>66.6</td>\n",
       "      <td>5.5605</td>\n",
       "      <td>5.0</td>\n",
       "      <td>311.0</td>\n",
       "      <td>15.2</td>\n",
       "      <td>395.60</td>\n",
       "      <td>12.43</td>\n",
       "    </tr>\n",
       "    <tr>\n",
       "      <th>7</th>\n",
       "      <td>0.14455</td>\n",
       "      <td>12.5</td>\n",
       "      <td>7.87</td>\n",
       "      <td>0.0</td>\n",
       "      <td>0.524</td>\n",
       "      <td>6.172</td>\n",
       "      <td>96.1</td>\n",
       "      <td>5.9505</td>\n",
       "      <td>5.0</td>\n",
       "      <td>311.0</td>\n",
       "      <td>15.2</td>\n",
       "      <td>396.90</td>\n",
       "      <td>19.15</td>\n",
       "    </tr>\n",
       "    <tr>\n",
       "      <th>8</th>\n",
       "      <td>0.21124</td>\n",
       "      <td>12.5</td>\n",
       "      <td>7.87</td>\n",
       "      <td>0.0</td>\n",
       "      <td>0.524</td>\n",
       "      <td>5.631</td>\n",
       "      <td>100.0</td>\n",
       "      <td>6.0821</td>\n",
       "      <td>5.0</td>\n",
       "      <td>311.0</td>\n",
       "      <td>15.2</td>\n",
       "      <td>386.63</td>\n",
       "      <td>29.93</td>\n",
       "    </tr>\n",
       "    <tr>\n",
       "      <th>9</th>\n",
       "      <td>0.17004</td>\n",
       "      <td>12.5</td>\n",
       "      <td>7.87</td>\n",
       "      <td>0.0</td>\n",
       "      <td>0.524</td>\n",
       "      <td>6.004</td>\n",
       "      <td>85.9</td>\n",
       "      <td>6.5921</td>\n",
       "      <td>5.0</td>\n",
       "      <td>311.0</td>\n",
       "      <td>15.2</td>\n",
       "      <td>386.71</td>\n",
       "      <td>17.10</td>\n",
       "    </tr>\n",
       "  </tbody>\n",
       "</table>\n",
       "</div>"
      ],
      "text/plain": [
       "      CRIM    ZN  INDUS  CHAS    NOX  ...  RAD    TAX  PTRATIO       B  LSTAT\n",
       "0  0.00632  18.0   2.31   0.0  0.538  ...  1.0  296.0     15.3  396.90   4.98\n",
       "1  0.02731   0.0   7.07   0.0  0.469  ...  2.0  242.0     17.8  396.90   9.14\n",
       "2  0.02729   0.0   7.07   0.0  0.469  ...  2.0  242.0     17.8  392.83   4.03\n",
       "3  0.03237   0.0   2.18   0.0  0.458  ...  3.0  222.0     18.7  394.63   2.94\n",
       "4  0.06905   0.0   2.18   0.0  0.458  ...  3.0  222.0     18.7  396.90   5.33\n",
       "5  0.02985   0.0   2.18   0.0  0.458  ...  3.0  222.0     18.7  394.12   5.21\n",
       "6  0.08829  12.5   7.87   0.0  0.524  ...  5.0  311.0     15.2  395.60  12.43\n",
       "7  0.14455  12.5   7.87   0.0  0.524  ...  5.0  311.0     15.2  396.90  19.15\n",
       "8  0.21124  12.5   7.87   0.0  0.524  ...  5.0  311.0     15.2  386.63  29.93\n",
       "9  0.17004  12.5   7.87   0.0  0.524  ...  5.0  311.0     15.2  386.71  17.10\n",
       "\n",
       "[10 rows x 13 columns]"
      ]
     },
     "execution_count": 105,
     "metadata": {
      "tags": []
     },
     "output_type": "execute_result"
    }
   ],
   "source": [
    "X = df.copy() #dataset has been copied to  X\n",
    "y_true = target\n",
    "X.head(10)"
   ]
  },
  {
   "cell_type": "code",
   "execution_count": 106,
   "metadata": {
    "colab": {
     "base_uri": "https://localhost:8080/"
    },
    "executionInfo": {
     "elapsed": 3041,
     "status": "ok",
     "timestamp": 1612841478505,
     "user": {
      "displayName": "Subha Fernando",
      "photoUrl": "",
      "userId": "09410483156944025816"
     },
     "user_tz": -330
    },
    "id": "sjdkBBH1ovd9",
    "outputId": "3d870c1d-ce4c-4a63-9829-2308e105ed63"
   },
   "outputs": [
    {
     "data": {
      "text/plain": [
       "False"
      ]
     },
     "execution_count": 106,
     "metadata": {
      "tags": []
     },
     "output_type": "execute_result"
    }
   ],
   "source": [
    "# Check any missing values are available and drop them in the X\n",
    "X.isnull().values.any()  #No null values"
   ]
  },
  {
   "cell_type": "code",
   "execution_count": 107,
   "metadata": {
    "colab": {
     "base_uri": "https://localhost:8080/",
     "height": 281
    },
    "executionInfo": {
     "elapsed": 3029,
     "status": "ok",
     "timestamp": 1612841478505,
     "user": {
      "displayName": "Subha Fernando",
      "photoUrl": "",
      "userId": "09410483156944025816"
     },
     "user_tz": -330
    },
    "id": "tbCLqdCR1drX",
    "outputId": "edeb8b0e-07df-49bd-9b54-41688860e35a"
   },
   "outputs": [
    {
     "data": {
      "text/plain": [
       "<matplotlib.axes._subplots.AxesSubplot at 0x7fb5fb88fb38>"
      ]
     },
     "execution_count": 107,
     "metadata": {
      "tags": []
     },
     "output_type": "execute_result"
    },
    {
     "data": {
      "image/png": "[encoded data removed]",
      "text/plain": [
       "<Figure size 432x288 with 1 Axes>"
      ]
     },
     "metadata": {
      "needs_background": "light",
      "tags": []
     },
     "output_type": "display_data"
    }
   ],
   "source": [
    "#Check the outliers\n",
    "X.boxplot()"
   ]
  },
  {
   "cell_type": "code",
   "execution_count": 108,
   "metadata": {
    "colab": {
     "base_uri": "https://localhost:8080/",
     "height": 281
    },
    "executionInfo": {
     "elapsed": 3021,
     "status": "ok",
     "timestamp": 1612841478506,
     "user": {
      "displayName": "Subha Fernando",
      "photoUrl": "",
      "userId": "09410483156944025816"
     },
     "user_tz": -330
    },
    "id": "AwH38OFcpQJd",
    "outputId": "0af4f1cd-e65a-4c3b-a85b-6cd402671c2b"
   },
   "outputs": [
    {
     "data": {
      "text/plain": [
       "<matplotlib.axes._subplots.AxesSubplot at 0x7fb5fb8e7c88>"
      ]
     },
     "execution_count": 108,
     "metadata": {
      "tags": []
     },
     "output_type": "execute_result"
    },
    {
     "data": {
      "image/png": "[encoded data removed]",
      "text/plain": [
       "<Figure size 432x288 with 1 Axes>"
      ]
     },
     "metadata": {
      "needs_background": "light",
      "tags": []
     },
     "output_type": "display_data"
    }
   ],
   "source": [
    "#for each column draw the boxplot\n",
    "columns = data_set.feature_names\n",
    "#Check any outliers in the dataset under each feature \n",
    "temp_df = pd.DataFrame(X, columns=[columns[1]])\n",
    "temp_df.boxplot()"
   ]
  },
  {
   "cell_type": "code",
   "execution_count": 109,
   "metadata": {
    "colab": {
     "base_uri": "https://localhost:8080/",
     "height": 565
    },
    "executionInfo": {
     "elapsed": 5083,
     "status": "ok",
     "timestamp": 1612841480575,
     "user": {
      "displayName": "Subha Fernando",
      "photoUrl": "",
      "userId": "09410483156944025816"
     },
     "user_tz": -330
    },
    "id": "Vg38Edt_pxIs",
    "outputId": "9e5c09f3-1a9f-4894-a31d-277fb5432516"
   },
   "outputs": [
    {
     "data": {
      "text/plain": [
       "array([[<matplotlib.axes._subplots.AxesSubplot object at 0x7fb5fb6ecfd0>,\n",
       "        <matplotlib.axes._subplots.AxesSubplot object at 0x7fb5fb658470>,\n",
       "        <matplotlib.axes._subplots.AxesSubplot object at 0x7fb5fb68b6d8>,\n",
       "        <matplotlib.axes._subplots.AxesSubplot object at 0x7fb5fb640940>],\n",
       "       [<matplotlib.axes._subplots.AxesSubplot object at 0x7fb5fb5f2ba8>,\n",
       "        <matplotlib.axes._subplots.AxesSubplot object at 0x7fb5fb5ae4e0>,\n",
       "        <matplotlib.axes._subplots.AxesSubplot object at 0x7fb5fb561860>,\n",
       "        <matplotlib.axes._subplots.AxesSubplot object at 0x7fb5fb511ba8>],\n",
       "       [<matplotlib.axes._subplots.AxesSubplot object at 0x7fb5fb511c18>,\n",
       "        <matplotlib.axes._subplots.AxesSubplot object at 0x7fb5fb503320>,\n",
       "        <matplotlib.axes._subplots.AxesSubplot object at 0x7fb5fb4b76a0>,\n",
       "        <matplotlib.axes._subplots.AxesSubplot object at 0x7fb5fb469a20>],\n",
       "       [<matplotlib.axes._subplots.AxesSubplot object at 0x7fb5fb41bda0>,\n",
       "        <matplotlib.axes._subplots.AxesSubplot object at 0x7fb5fb3d9160>,\n",
       "        <matplotlib.axes._subplots.AxesSubplot object at 0x7fb5fb40a4e0>,\n",
       "        <matplotlib.axes._subplots.AxesSubplot object at 0x7fb5fb3bd860>]],\n",
       "      dtype=object)"
      ]
     },
     "execution_count": 109,
     "metadata": {
      "tags": []
     },
     "output_type": "execute_result"
    },
    {
     "data": {
      "image/png": "[encoded data removed]",
      "text/plain": [
       "<Figure size 432x288 with 16 Axes>"
      ]
     },
     "metadata": {
      "needs_background": "light",
      "tags": []
     },
     "output_type": "display_data"
    }
   ],
   "source": [
    "#Check any Transformations are required. \n",
    "X.hist()"
   ]
  },
  {
   "cell_type": "code",
   "execution_count": 110,
   "metadata": {
    "colab": {
     "base_uri": "https://localhost:8080/",
     "height": 565
    },
    "executionInfo": {
     "elapsed": 7233,
     "status": "ok",
     "timestamp": 1612841482729,
     "user": {
      "displayName": "Subha Fernando",
      "photoUrl": "",
      "userId": "09410483156944025816"
     },
     "user_tz": -330
    },
    "id": "B7JoXa6iqVF7",
    "outputId": "e42578ef-5373-4ca0-e7ff-e422fd71a6fd"
   },
   "outputs": [
    {
     "data": {
      "text/plain": [
       "array([[<matplotlib.axes._subplots.AxesSubplot object at 0x7fb5fc54f5f8>,\n",
       "        <matplotlib.axes._subplots.AxesSubplot object at 0x7fb5fc4b0470>,\n",
       "        <matplotlib.axes._subplots.AxesSubplot object at 0x7fb5fb1a10b8>,\n",
       "        <matplotlib.axes._subplots.AxesSubplot object at 0x7fb5fb152320>],\n",
       "       [<matplotlib.axes._subplots.AxesSubplot object at 0x7fb5fb184588>,\n",
       "        <matplotlib.axes._subplots.AxesSubplot object at 0x7fb5fb1387f0>,\n",
       "        <matplotlib.axes._subplots.AxesSubplot object at 0x7fb5fb0eda58>,\n",
       "        <matplotlib.axes._subplots.AxesSubplot object at 0x7fb5fb0a1c88>],\n",
       "       [<matplotlib.axes._subplots.AxesSubplot object at 0x7fb5fb0a1cf8>,\n",
       "        <matplotlib.axes._subplots.AxesSubplot object at 0x7fb5fb0161d0>,\n",
       "        <matplotlib.axes._subplots.AxesSubplot object at 0x7fb5fb04a438>,\n",
       "        <matplotlib.axes._subplots.AxesSubplot object at 0x7fb5faff9a20>],\n",
       "       [<matplotlib.axes._subplots.AxesSubplot object at 0x7fb5fafaada0>,\n",
       "        <matplotlib.axes._subplots.AxesSubplot object at 0x7fb5faf6c160>,\n",
       "        <matplotlib.axes._subplots.AxesSubplot object at 0x7fb5faf1c4e0>,\n",
       "        <matplotlib.axes._subplots.AxesSubplot object at 0x7fb5faecf860>]],\n",
       "      dtype=object)"
      ]
     },
     "execution_count": 110,
     "metadata": {
      "tags": []
     },
     "output_type": "execute_result"
    },
    {
     "data": {
      "image/png": "[encoded data removed]",
      "text/plain": [
       "<Figure size 432x288 with 16 Axes>"
      ]
     },
     "metadata": {
      "needs_background": "light",
      "tags": []
     },
     "output_type": "display_data"
    }
   ],
   "source": [
    "#Do the  trasnformations for required features\n",
    "from sklearn.preprocessing import FunctionTransformer\n",
    "logarithm_transformer = FunctionTransformer(np.log, validate=True)\n",
    "\n",
    "# apply the transformation to your data\n",
    "columns = ['DIS', 'LSTAT']\n",
    "data_new = logarithm_transformer.transform(X[columns])\n",
    "X['DIS'] = data_new[:, 0]\n",
    "X['LSTAT'] = data_new[:,1]\n",
    "\n",
    "X.hist()"
   ]
  },
  {
   "cell_type": "code",
   "execution_count": 111,
   "metadata": {
    "colab": {
     "base_uri": "https://localhost:8080/",
     "height": 565
    },
    "executionInfo": {
     "elapsed": 8925,
     "status": "ok",
     "timestamp": 1612841484425,
     "user": {
      "displayName": "Subha Fernando",
      "photoUrl": "",
      "userId": "09410483156944025816"
     },
     "user_tz": -330
    },
    "id": "EUfSsQdMGzSW",
    "outputId": "7099ffbb-a2bf-4ea0-b994-03a147ab7794"
   },
   "outputs": [
    {
     "data": {
      "text/plain": [
       "array([[<matplotlib.axes._subplots.AxesSubplot object at 0x7fb5fad9ce48>,\n",
       "        <matplotlib.axes._subplots.AxesSubplot object at 0x7fb5facacbe0>,\n",
       "        <matplotlib.axes._subplots.AxesSubplot object at 0x7fb5fac87208>,\n",
       "        <matplotlib.axes._subplots.AxesSubplot object at 0x7fb5fac37588>],\n",
       "       [<matplotlib.axes._subplots.AxesSubplot object at 0x7fb5fabe8908>,\n",
       "        <matplotlib.axes._subplots.AxesSubplot object at 0x7fb5fab99c88>,\n",
       "        <matplotlib.axes._subplots.AxesSubplot object at 0x7fb5fc193cc0>,\n",
       "        <matplotlib.axes._subplots.AxesSubplot object at 0x7fb5fb694630>],\n",
       "       [<matplotlib.axes._subplots.AxesSubplot object at 0x7fb5fb694ef0>,\n",
       "        <matplotlib.axes._subplots.AxesSubplot object at 0x7fb5fb2019b0>,\n",
       "        <matplotlib.axes._subplots.AxesSubplot object at 0x7fb5fb06a3c8>,\n",
       "        <matplotlib.axes._subplots.AxesSubplot object at 0x7fb5faabaa90>],\n",
       "       [<matplotlib.axes._subplots.AxesSubplot object at 0x7fb5faa6fcf8>,\n",
       "        <matplotlib.axes._subplots.AxesSubplot object at 0x7fb5faa25f60>,\n",
       "        <matplotlib.axes._subplots.AxesSubplot object at 0x7fb5fa9e4208>,\n",
       "        <matplotlib.axes._subplots.AxesSubplot object at 0x7fb5fa998470>]],\n",
       "      dtype=object)"
      ]
     },
     "execution_count": 111,
     "metadata": {
      "tags": []
     },
     "output_type": "execute_result"
    },
    {
     "data": {
      "image/png": "[encoded data removed]",
      "text/plain": [
       "<Figure size 432x288 with 16 Axes>"
      ]
     },
     "metadata": {
      "needs_background": "light",
      "tags": []
     },
     "output_type": "display_data"
    }
   ],
   "source": [
    "from sklearn.preprocessing import FunctionTransformer\n",
    "exponential_transformer = FunctionTransformer(np.exp)\n",
    "\n",
    "data_new = exponential_transformer.transform(X['AGE'])\n",
    "X['AGE'] = data_new\n",
    "X.hist()                    "
   ]
  },
  {
   "cell_type": "markdown",
   "metadata": {
    "id": "K3Rf3r3HdzF-"
   },
   "source": [
    "Data Standadization"
   ]
  },
  {
   "cell_type": "code",
   "execution_count": 112,
   "metadata": {
    "colab": {
     "base_uri": "https://localhost:8080/",
     "height": 345
    },
    "executionInfo": {
     "elapsed": 8922,
     "status": "ok",
     "timestamp": 1612841484426,
     "user": {
      "displayName": "Subha Fernando",
      "photoUrl": "",
      "userId": "09410483156944025816"
     },
     "user_tz": -330
    },
    "id": "c3Br8SFHqhD3",
    "outputId": "729a59af-705f-4ca8-983d-f5862f5a8e84"
   },
   "outputs": [
    {
     "data": {
      "text/html": [
       "<div>\n",
       "<style scoped>\n",
       "    .dataframe tbody tr th:only-of-type {\n",
       "        vertical-align: middle;\n",
       "    }\n",
       "\n",
       "    .dataframe tbody tr th {\n",
       "        vertical-align: top;\n",
       "    }\n",
       "\n",
       "    .dataframe thead th {\n",
       "        text-align: right;\n",
       "    }\n",
       "</style>\n",
       "<table border=\"1\" class=\"dataframe\">\n",
       "  <thead>\n",
       "    <tr style=\"text-align: right;\">\n",
       "      <th></th>\n",
       "      <th>CRIM</th>\n",
       "      <th>ZN</th>\n",
       "      <th>INDUS</th>\n",
       "      <th>NOX</th>\n",
       "      <th>RM</th>\n",
       "      <th>AGE</th>\n",
       "      <th>DIS</th>\n",
       "      <th>RAD</th>\n",
       "      <th>TAX</th>\n",
       "      <th>PTRATIO</th>\n",
       "      <th>B</th>\n",
       "      <th>LSTAT</th>\n",
       "      <th>CHAS</th>\n",
       "    </tr>\n",
       "  </thead>\n",
       "  <tbody>\n",
       "    <tr>\n",
       "      <th>0</th>\n",
       "      <td>-0.419782</td>\n",
       "      <td>0.284830</td>\n",
       "      <td>-1.287909</td>\n",
       "      <td>-0.144217</td>\n",
       "      <td>0.413672</td>\n",
       "      <td>-0.357338</td>\n",
       "      <td>0.409104</td>\n",
       "      <td>-0.982843</td>\n",
       "      <td>-0.666608</td>\n",
       "      <td>-1.459000</td>\n",
       "      <td>0.441052</td>\n",
       "      <td>-1.275260</td>\n",
       "      <td>0</td>\n",
       "    </tr>\n",
       "    <tr>\n",
       "      <th>1</th>\n",
       "      <td>-0.417339</td>\n",
       "      <td>-0.487722</td>\n",
       "      <td>-0.593381</td>\n",
       "      <td>-0.740262</td>\n",
       "      <td>0.194274</td>\n",
       "      <td>-0.357338</td>\n",
       "      <td>0.769562</td>\n",
       "      <td>-0.867883</td>\n",
       "      <td>-0.987329</td>\n",
       "      <td>-0.303094</td>\n",
       "      <td>0.441052</td>\n",
       "      <td>-0.263711</td>\n",
       "      <td>0</td>\n",
       "    </tr>\n",
       "    <tr>\n",
       "      <th>2</th>\n",
       "      <td>-0.417342</td>\n",
       "      <td>-0.487722</td>\n",
       "      <td>-0.593381</td>\n",
       "      <td>-0.740262</td>\n",
       "      <td>1.282714</td>\n",
       "      <td>-0.357338</td>\n",
       "      <td>0.769562</td>\n",
       "      <td>-0.867883</td>\n",
       "      <td>-0.987329</td>\n",
       "      <td>-0.303094</td>\n",
       "      <td>0.396427</td>\n",
       "      <td>-1.627858</td>\n",
       "      <td>0</td>\n",
       "    </tr>\n",
       "    <tr>\n",
       "      <th>3</th>\n",
       "      <td>-0.416750</td>\n",
       "      <td>-0.487722</td>\n",
       "      <td>-1.306878</td>\n",
       "      <td>-0.835284</td>\n",
       "      <td>1.016303</td>\n",
       "      <td>-0.357338</td>\n",
       "      <td>1.139194</td>\n",
       "      <td>-0.752922</td>\n",
       "      <td>-1.106115</td>\n",
       "      <td>0.113032</td>\n",
       "      <td>0.416163</td>\n",
       "      <td>-2.153192</td>\n",
       "      <td>0</td>\n",
       "    </tr>\n",
       "    <tr>\n",
       "      <th>4</th>\n",
       "      <td>-0.412482</td>\n",
       "      <td>-0.487722</td>\n",
       "      <td>-1.306878</td>\n",
       "      <td>-0.835284</td>\n",
       "      <td>1.228577</td>\n",
       "      <td>-0.357338</td>\n",
       "      <td>1.139194</td>\n",
       "      <td>-0.752922</td>\n",
       "      <td>-1.106115</td>\n",
       "      <td>0.113032</td>\n",
       "      <td>0.441052</td>\n",
       "      <td>-1.162114</td>\n",
       "      <td>0</td>\n",
       "    </tr>\n",
       "    <tr>\n",
       "      <th>5</th>\n",
       "      <td>-0.417044</td>\n",
       "      <td>-0.487722</td>\n",
       "      <td>-1.306878</td>\n",
       "      <td>-0.835284</td>\n",
       "      <td>0.207096</td>\n",
       "      <td>-0.357338</td>\n",
       "      <td>1.139194</td>\n",
       "      <td>-0.752922</td>\n",
       "      <td>-1.106115</td>\n",
       "      <td>0.113032</td>\n",
       "      <td>0.410571</td>\n",
       "      <td>-1.200048</td>\n",
       "      <td>0</td>\n",
       "    </tr>\n",
       "    <tr>\n",
       "      <th>6</th>\n",
       "      <td>-0.410243</td>\n",
       "      <td>0.048772</td>\n",
       "      <td>-0.476654</td>\n",
       "      <td>-0.265154</td>\n",
       "      <td>-0.388411</td>\n",
       "      <td>-0.357338</td>\n",
       "      <td>0.978929</td>\n",
       "      <td>-0.523001</td>\n",
       "      <td>-0.577519</td>\n",
       "      <td>-1.505237</td>\n",
       "      <td>0.426798</td>\n",
       "      <td>0.248456</td>\n",
       "      <td>0</td>\n",
       "    </tr>\n",
       "    <tr>\n",
       "      <th>7</th>\n",
       "      <td>-0.403696</td>\n",
       "      <td>0.048772</td>\n",
       "      <td>-0.476654</td>\n",
       "      <td>-0.265154</td>\n",
       "      <td>-0.160466</td>\n",
       "      <td>-0.285016</td>\n",
       "      <td>1.104691</td>\n",
       "      <td>-0.523001</td>\n",
       "      <td>-0.577519</td>\n",
       "      <td>-1.505237</td>\n",
       "      <td>0.441052</td>\n",
       "      <td>0.968416</td>\n",
       "      <td>0</td>\n",
       "    </tr>\n",
       "    <tr>\n",
       "      <th>8</th>\n",
       "      <td>-0.395935</td>\n",
       "      <td>0.048772</td>\n",
       "      <td>-0.476654</td>\n",
       "      <td>-0.265154</td>\n",
       "      <td>-0.931206</td>\n",
       "      <td>3.215522</td>\n",
       "      <td>1.145274</td>\n",
       "      <td>-0.523001</td>\n",
       "      <td>-0.577519</td>\n",
       "      <td>-1.505237</td>\n",
       "      <td>0.328448</td>\n",
       "      <td>1.712312</td>\n",
       "      <td>0</td>\n",
       "    </tr>\n",
       "    <tr>\n",
       "      <th>9</th>\n",
       "      <td>-0.400729</td>\n",
       "      <td>0.048772</td>\n",
       "      <td>-0.476654</td>\n",
       "      <td>-0.265154</td>\n",
       "      <td>-0.399808</td>\n",
       "      <td>-0.357335</td>\n",
       "      <td>1.294662</td>\n",
       "      <td>-0.523001</td>\n",
       "      <td>-0.577519</td>\n",
       "      <td>-1.505237</td>\n",
       "      <td>0.329325</td>\n",
       "      <td>0.779802</td>\n",
       "      <td>0</td>\n",
       "    </tr>\n",
       "  </tbody>\n",
       "</table>\n",
       "</div>"
      ],
      "text/plain": [
       "       CRIM        ZN     INDUS       NOX  ...   PTRATIO         B     LSTAT  CHAS\n",
       "0 -0.419782  0.284830 -1.287909 -0.144217  ... -1.459000  0.441052 -1.275260     0\n",
       "1 -0.417339 -0.487722 -0.593381 -0.740262  ... -0.303094  0.441052 -0.263711     0\n",
       "2 -0.417342 -0.487722 -0.593381 -0.740262  ... -0.303094  0.396427 -1.627858     0\n",
       "3 -0.416750 -0.487722 -1.306878 -0.835284  ...  0.113032  0.416163 -2.153192     0\n",
       "4 -0.412482 -0.487722 -1.306878 -0.835284  ...  0.113032  0.441052 -1.162114     0\n",
       "5 -0.417044 -0.487722 -1.306878 -0.835284  ...  0.113032  0.410571 -1.200048     0\n",
       "6 -0.410243  0.048772 -0.476654 -0.265154  ... -1.505237  0.426798  0.248456     0\n",
       "7 -0.403696  0.048772 -0.476654 -0.265154  ... -1.505237  0.441052  0.968416     0\n",
       "8 -0.395935  0.048772 -0.476654 -0.265154  ... -1.505237  0.328448  1.712312     0\n",
       "9 -0.400729  0.048772 -0.476654 -0.265154  ... -1.505237  0.329325  0.779802     0\n",
       "\n",
       "[10 rows x 13 columns]"
      ]
     },
     "execution_count": 112,
     "metadata": {
      "tags": []
     },
     "output_type": "execute_result"
    }
   ],
   "source": [
    "#Conduct the Correlation Matrix Calculations to test the Feature independence\n",
    "X.dtypes\n",
    "#Cording Categorical Features\n",
    "X['CHAS'] = X['CHAS'].astype('category').cat.codes\n",
    "X.dtypes\n",
    "\n",
    "#Removing Categorical Features before the standardization\n",
    "columns_value = data_set.feature_names\n",
    "index = np.argwhere(columns_value == \"CHAS\")\n",
    "columns_value_new = np.delete(columns_value, index)\n",
    "#columns_value_new\n",
    "\n",
    "#Applying Standardization \n",
    "#step 1 - Calling the standard scaler\n",
    "scaler = StandardScaler() \n",
    "\n",
    "#Transformation of other features\n",
    "X_Except = pd.DataFrame(X, columns=columns_value_new)\n",
    "scaler.fit(X_Except)\n",
    "X_Scaled = scaler.transform(X_Except)\n",
    "\n",
    "X_Scaled_Except = pd.DataFrame(X_Scaled, columns=columns_value_new)\n",
    "X_Scaled_Except.head(10)\n",
    "\n",
    "#Joining the CHAS to the X again\n",
    "X_standard = X_Scaled_Except.join(X['CHAS'])\n",
    "X = X_standard\n",
    "X.head(10)"
   ]
  },
  {
   "cell_type": "code",
   "execution_count": 113,
   "metadata": {
    "colab": {
     "base_uri": "https://localhost:8080/",
     "height": 498
    },
    "executionInfo": {
     "elapsed": 10771,
     "status": "ok",
     "timestamp": 1612841486278,
     "user": {
      "displayName": "Subha Fernando",
      "photoUrl": "",
      "userId": "09410483156944025816"
     },
     "user_tz": -330
    },
    "id": "UEGZKwZqlJ7y",
    "outputId": "7abde03e-f744-4eab-a233-9eef292737fe"
   },
   "outputs": [
    {
     "data": {
      "text/plain": [
       "array([[<matplotlib.axes._subplots.AxesSubplot object at 0x7fb5fa755e80>,\n",
       "        <matplotlib.axes._subplots.AxesSubplot object at 0x7fb5fa742d30>,\n",
       "        <matplotlib.axes._subplots.AxesSubplot object at 0x7fb5fa6df0f0>],\n",
       "       [<matplotlib.axes._subplots.AxesSubplot object at 0x7fb5fa70d470>,\n",
       "        <matplotlib.axes._subplots.AxesSubplot object at 0x7fb5fa6bf7f0>,\n",
       "        <matplotlib.axes._subplots.AxesSubplot object at 0x7fb5fa672b70>],\n",
       "       [<matplotlib.axes._subplots.AxesSubplot object at 0x7fb5fa625ef0>,\n",
       "        <matplotlib.axes._subplots.AxesSubplot object at 0x7fb5fa5e1278>,\n",
       "        <matplotlib.axes._subplots.AxesSubplot object at 0x7fb5fa5e12e8>],\n",
       "       [<matplotlib.axes._subplots.AxesSubplot object at 0x7fb5fa5c59b0>,\n",
       "        <matplotlib.axes._subplots.AxesSubplot object at 0x7fb5fa579d30>,\n",
       "        <matplotlib.axes._subplots.AxesSubplot object at 0x7fb5fa5370f0>]],\n",
       "      dtype=object)"
      ]
     },
     "execution_count": 113,
     "metadata": {
      "tags": []
     },
     "output_type": "execute_result"
    },
    {
     "data": {
      "image/png": "[encoded data removed]",
      "text/plain": [
       "<Figure size 432x288 with 12 Axes>"
      ]
     },
     "metadata": {
      "needs_background": "light",
      "tags": []
     },
     "output_type": "display_data"
    }
   ],
   "source": [
    "X_Scaled_Except.hist()"
   ]
  },
  {
   "cell_type": "code",
   "execution_count": 114,
   "metadata": {
    "colab": {
     "base_uri": "https://localhost:8080/",
     "height": 301
    },
    "executionInfo": {
     "elapsed": 10768,
     "status": "ok",
     "timestamp": 1612841486279,
     "user": {
      "displayName": "Subha Fernando",
      "photoUrl": "",
      "userId": "09410483156944025816"
     },
     "user_tz": -330
    },
    "id": "tweHwZtfqpQs",
    "outputId": "2d884ff8-3c29-4b3a-ffcf-880ae73751d7"
   },
   "outputs": [
    {
     "data": {
      "image/png": "[encoded data removed]",
      "text/plain": [
       "<Figure size 432x288 with 2 Axes>"
      ]
     },
     "metadata": {
      "needs_background": "light",
      "tags": []
     },
     "output_type": "display_data"
    }
   ],
   "source": [
    "import seaborn as sns\n",
    "sns.heatmap(X.corr()); #Seems they can be assuemed as independent"
   ]
  },
  {
   "cell_type": "code",
   "execution_count": 115,
   "metadata": {
    "colab": {
     "base_uri": "https://localhost:8080/",
     "height": 602
    },
    "executionInfo": {
     "elapsed": 11383,
     "status": "ok",
     "timestamp": 1612841486897,
     "user": {
      "displayName": "Subha Fernando",
      "photoUrl": "",
      "userId": "09410483156944025816"
     },
     "user_tz": -330
    },
    "id": "LRFGYsWsuPWr",
    "outputId": "fb169e70-05af-4996-db55-789d5f2b3303"
   },
   "outputs": [
    {
     "name": "stdout",
     "output_type": "stream",
     "text": [
      "             CRIM        ZN     INDUS  ...     LSTAT      CHAS      MEDV\n",
      "CRIM     1.000000 -0.200469  0.406583  ...  0.395543 -0.055892 -0.388305\n",
      "ZN      -0.200469  1.000000 -0.533828  ... -0.477706 -0.042697  0.360445\n",
      "INDUS    0.406583 -0.533828  1.000000  ...  0.597429  0.062938 -0.483725\n",
      "NOX      0.420972 -0.516604  0.763651  ...  0.577072  0.091203 -0.427321\n",
      "RM      -0.219247  0.311991 -0.391676  ... -0.664528  0.091251  0.695360\n",
      "AGE      0.416843 -0.158244  0.320726  ...  0.326197 -0.030990 -0.221309\n",
      "DIS     -0.464239  0.590655 -0.761286  ... -0.524343 -0.087037  0.292316\n",
      "RAD      0.625505 -0.311948  0.595129  ...  0.460506 -0.007368 -0.381626\n",
      "TAX      0.582764 -0.314563  0.720760  ...  0.522385 -0.035587 -0.468536\n",
      "PTRATIO  0.289946 -0.391679  0.383248  ...  0.417022 -0.121515 -0.507787\n",
      "B       -0.385064  0.175520 -0.356977  ... -0.341279  0.048788  0.333461\n",
      "LSTAT    0.395543 -0.477706  0.597429  ...  1.000000 -0.074074 -0.815442\n",
      "CHAS    -0.055892 -0.042697  0.062938  ... -0.074074  1.000000  0.175260\n",
      "MEDV    -0.388305  0.360445 -0.483725  ... -0.815442  0.175260  1.000000\n",
      "\n",
      "[14 rows x 14 columns]\n"
     ]
    },
    {
     "data": {
      "text/plain": [
       "<matplotlib.axes._subplots.AxesSubplot at 0x7fb5f9a26748>"
      ]
     },
     "execution_count": 115,
     "metadata": {
      "tags": []
     },
     "output_type": "execute_result"
    },
    {
     "data": {
      "image/png": "[encoded data removed]",
      "text/plain": [
       "<Figure size 432x288 with 2 Axes>"
      ]
     },
     "metadata": {
      "needs_background": "light",
      "tags": []
     },
     "output_type": "display_data"
    }
   ],
   "source": [
    "#test the signifncance of the features\n",
    "d_data = X.copy()\n",
    "d_data['MEDV'] = y_true\n",
    "d_data.head(10)\n",
    "print(d_data.corr())\n",
    "sns.heatmap(d_data.corr()) #Seems we are ok with the signifncancy   "
   ]
  },
  {
   "cell_type": "markdown",
   "metadata": {
    "id": "v9pVwLOCz0xL"
   },
   "source": [
    "Feature Deduction using SVD"
   ]
  },
  {
   "cell_type": "code",
   "execution_count": 116,
   "metadata": {
    "colab": {
     "base_uri": "https://localhost:8080/"
    },
    "executionInfo": {
     "elapsed": 11379,
     "status": "ok",
     "timestamp": 1612841486897,
     "user": {
      "displayName": "Subha Fernando",
      "photoUrl": "",
      "userId": "09410483156944025816"
     },
     "user_tz": -330
    },
    "id": "3fZiPy32z4-c",
    "outputId": "f2229103-930d-46a8-e420-448804e3e159"
   },
   "outputs": [
    {
     "name": "stdout",
     "output_type": "stream",
     "text": [
      "[54.42719865 25.72314304 23.48737303 22.25764502 19.53266841 17.33292035\n",
      " 15.2439495  12.15610543 11.56542439 10.17620241  8.40812388  6.06758079\n",
      "  5.38610495]\n",
      "13\n"
     ]
    }
   ],
   "source": [
    "# calculate the  SVD for the data X\n",
    "U_boston,S_boston,Vt_boston = np.linalg.svd(X, full_matrices=False)\n",
    "\n",
    "#numpy.linalg.svd actually returns a Σ that is not a diagonal matrix, but a list of the entries on the diagonal.\n",
    "num_sv_boston = np.arange(1, S_boston.size+1)\n",
    "cum_var_explained_boston = [np.sum(np.square(S_boston[0:n])) / np.sum(np.square(S_boston)) for n in num_sv_boston]\n",
    "print(S_boston)\n",
    "print(S_boston.size)"
   ]
  },
  {
   "cell_type": "code",
   "execution_count": 117,
   "metadata": {
    "colab": {
     "base_uri": "https://localhost:8080/",
     "height": 406
    },
    "executionInfo": {
     "elapsed": 12472,
     "status": "ok",
     "timestamp": 1612841487993,
     "user": {
      "displayName": "Subha Fernando",
      "photoUrl": "",
      "userId": "09410483156944025816"
     },
     "user_tz": -330
    },
    "id": "TvGNQNcn1Zh8",
    "outputId": "8703594c-5645-4bcb-a7e3-7e284ce052fe"
   },
   "outputs": [
    {
     "data": {
      "image/png": "[encoded data removed]",
      "text/plain": [
       "<Figure size 504x396 with 1 Axes>"
      ]
     },
     "metadata": {
      "needs_background": "light",
      "tags": []
     },
     "output_type": "display_data"
    }
   ],
   "source": [
    "import matplotlib.pyplot as plt\n",
    "import sklearn.datasets\n",
    "import sklearn.preprocessing\n",
    "fig = plt.figure(figsize=(7.0,5.5))\n",
    "ax = fig.add_subplot(111)\n",
    "\n",
    "plt.plot(num_sv_boston,\n",
    "         cum_var_explained_boston,\n",
    "         color='#2171b5',\n",
    "         label='variance explained',\n",
    "         alpha=0.65,\n",
    "         zorder=1000)\n",
    "\n",
    "plt.scatter(num_sv_boston,\n",
    "            sklearn.preprocessing.normalize(S_boston.reshape((1,-1))),\n",
    "            color='#fc4e2a',\n",
    "            label='singular values (normalized)',\n",
    "            alpha=0.65,\n",
    "            zorder=1000)\n",
    "\n",
    "plt.legend(loc='center right', scatterpoints=1, fontsize=8)\n",
    "\n",
    "ax.set_xticks(num_sv_boston)\n",
    "ax.set_xlim(0.8, 14.1)\n",
    "ax.set_ylim(0.0, 1.1)\n",
    "ax.set_xlabel('Number of singular values used')\n",
    "ax.set_ylabel('Variance in data explained')\n",
    "ax.set_title('Boston dataset: cumulative variance explained & singular values',\n",
    "             fontsize=14,\n",
    "             y=1.03)\n",
    "\n",
    "ax.set_facecolor('0.98')\n",
    "\n",
    "plt.grid(alpha=0.8, zorder=1)\n",
    "plt.tight_layout()"
   ]
  },
  {
   "cell_type": "code",
   "execution_count": 118,
   "metadata": {
    "executionInfo": {
     "elapsed": 12469,
     "status": "ok",
     "timestamp": 1612841487993,
     "user": {
      "displayName": "Subha Fernando",
      "photoUrl": "",
      "userId": "09410483156944025816"
     },
     "user_tz": -330
    },
    "id": "3DfDUqEu2tC0"
   },
   "outputs": [],
   "source": [
    "from sklearn.decomposition import TruncatedSVD\n",
    "svd = TruncatedSVD(n_components=10)\n",
    "X_transformed = svd.fit_transform(X)\n",
    "X = X_transformed"
   ]
  },
  {
   "cell_type": "code",
   "execution_count": 119,
   "metadata": {
    "executionInfo": {
     "elapsed": 12465,
     "status": "ok",
     "timestamp": 1612841487994,
     "user": {
      "displayName": "Subha Fernando",
      "photoUrl": "",
      "userId": "09410483156944025816"
     },
     "user_tz": -330
    },
    "id": "z4WEwhQ5rqKh"
   },
   "outputs": [],
   "source": [
    "#Implementing Linear Regression\n",
    "lm = linear_model.LinearRegression()\n",
    "model = lm.fit(X,y_true)"
   ]
  },
  {
   "cell_type": "code",
   "execution_count": 120,
   "metadata": {
    "colab": {
     "base_uri": "https://localhost:8080/"
    },
    "executionInfo": {
     "elapsed": 12461,
     "status": "ok",
     "timestamp": 1612841487994,
     "user": {
      "displayName": "Subha Fernando",
      "photoUrl": "",
      "userId": "09410483156944025816"
     },
     "user_tz": -330
    },
    "id": "OIokLOAwsCVB",
    "outputId": "99682bff-dcf4-4dd4-f3d0-6cbccf9d9567"
   },
   "outputs": [
    {
     "name": "stdout",
     "output_type": "stream",
     "text": [
      "   predicted\n",
      "0  33.177800\n",
      "1  24.688711\n",
      "2  34.964857\n",
      "3  36.721542\n",
      "4  31.563985\n",
      "5  29.400275\n",
      "6  21.802164\n",
      "7  18.126003\n",
      "8  13.917629\n",
      "9  18.316752\n"
     ]
    }
   ],
   "source": [
    "predictions = lm.predict(X)\n",
    "y_hat = pd.DataFrame(predictions, columns=[\"predicted\"])\n",
    "print(y_hat.head(10)) #print predictions for first five values"
   ]
  },
  {
   "cell_type": "code",
   "execution_count": 121,
   "metadata": {
    "colab": {
     "base_uri": "https://localhost:8080/"
    },
    "executionInfo": {
     "elapsed": 12458,
     "status": "ok",
     "timestamp": 1612841487995,
     "user": {
      "displayName": "Subha Fernando",
      "photoUrl": "",
      "userId": "09410483156944025816"
     },
     "user_tz": -330
    },
    "id": "Tns3CTGdsIcr",
    "outputId": "50c16564-6e68-4977-f9c7-d05d4eea83aa"
   },
   "outputs": [
    {
     "data": {
      "text/plain": [
       "19.59122937111719"
      ]
     },
     "execution_count": 121,
     "metadata": {
      "tags": []
     },
     "output_type": "execute_result"
    }
   ],
   "source": [
    " #Calcualting MSE of y_hat and y\n",
    "from sklearn.metrics import mean_squared_error\n",
    "mean_squared_error(y_true, y_hat)"
   ]
  },
  {
   "cell_type": "code",
   "execution_count": 122,
   "metadata": {
    "colab": {
     "base_uri": "https://localhost:8080/"
    },
    "executionInfo": {
     "elapsed": 12455,
     "status": "ok",
     "timestamp": 1612841487995,
     "user": {
      "displayName": "Subha Fernando",
      "photoUrl": "",
      "userId": "09410483156944025816"
     },
     "user_tz": -330
    },
    "id": "S-o_j8QhEInS",
    "outputId": "b816283d-e915-4b61-e6da-a39e0b3133e3"
   },
   "outputs": [
    {
     "data": {
      "text/plain": [
       "4.426198071835149"
      ]
     },
     "execution_count": 122,
     "metadata": {
      "tags": []
     },
     "output_type": "execute_result"
    }
   ],
   "source": [
    "#Root Mean Sqaured Error\n",
    "from math import sqrt\n",
    "rmsq = sqrt(mean_squared_error(y_true, y_hat))\n",
    "rmsq"
   ]
  },
  {
   "cell_type": "code",
   "execution_count": 123,
   "metadata": {
    "colab": {
     "base_uri": "https://localhost:8080/"
    },
    "executionInfo": {
     "elapsed": 12451,
     "status": "ok",
     "timestamp": 1612841487995,
     "user": {
      "displayName": "Subha Fernando",
      "photoUrl": "",
      "userId": "09410483156944025816"
     },
     "user_tz": -330
    },
    "id": "ABFV-5sLtWLb",
    "outputId": "11905868-26eb-4dbd-8f66-da76c6e7d1ad"
   },
   "outputs": [
    {
     "name": "stdout",
     "output_type": "stream",
     "text": [
      "0.7679302016836492\n"
     ]
    }
   ],
   "source": [
    "#Percentage of explained variance of the predictions\n",
    "print(lm.score(X,y_true))"
   ]
  },
  {
   "cell_type": "code",
   "execution_count": 124,
   "metadata": {
    "colab": {
     "base_uri": "https://localhost:8080/"
    },
    "executionInfo": {
     "elapsed": 12449,
     "status": "ok",
     "timestamp": 1612841487996,
     "user": {
      "displayName": "Subha Fernando",
      "photoUrl": "",
      "userId": "09410483156944025816"
     },
     "user_tz": -330
    },
    "id": "Es7syQLttgmr",
    "outputId": "334df7e4-438c-48d5-ef84-74058e2dde2b"
   },
   "outputs": [
    {
     "name": "stdout",
     "output_type": "stream",
     "text": [
      "[[-2.39425815  3.09672612  2.81545342 -1.68340716 -2.20088949  0.88592823\n",
      "  -1.02322981  0.23900451  3.01028675  1.21203408]]\n"
     ]
    }
   ],
   "source": [
    "#W parameters of the model\n",
    "print(lm.coef_)"
   ]
  },
  {
   "cell_type": "code",
   "execution_count": 125,
   "metadata": {
    "colab": {
     "base_uri": "https://localhost:8080/"
    },
    "executionInfo": {
     "elapsed": 12446,
     "status": "ok",
     "timestamp": 1612841487997,
     "user": {
      "displayName": "Subha Fernando",
      "photoUrl": "",
      "userId": "09410483156944025816"
     },
     "user_tz": -330
    },
    "id": "zM4d46R1ttjq",
    "outputId": "699e6c89-e45f-4a40-8c19-3d7ae288d8fb"
   },
   "outputs": [
    {
     "name": "stdout",
     "output_type": "stream",
     "text": [
      "[22.51255615]\n"
     ]
    }
   ],
   "source": [
    "#Intercept of the model\n",
    "print(lm.intercept_)"
   ]
  },
  {
   "cell_type": "code",
   "execution_count": 161,
   "metadata": {
    "colab": {
     "base_uri": "https://localhost:8080/",
     "height": 295
    },
    "executionInfo": {
     "elapsed": 2824,
     "status": "ok",
     "timestamp": 1612842152287,
     "user": {
      "displayName": "Subha Fernando",
      "photoUrl": "",
      "userId": "09410483156944025816"
     },
     "user_tz": -330
    },
    "id": "TBBfyOVWEX7r",
    "outputId": "7f7e183a-70cb-4778-a449-53f744ac5db0"
   },
   "outputs": [
    {
     "data": {
      "image/png": "[encoded data removed]",
      "text/plain": [
       "<Figure size 432x288 with 1 Axes>"
      ]
     },
     "metadata": {
      "needs_background": "light",
      "tags": []
     },
     "output_type": "display_data"
    }
   ],
   "source": [
    "import matplotlib.pyplot as plt\n",
    "plt.plot(y_hat, label = \"Pred\")\n",
    "plt.plot(y_true, label = \"Actual\")\n",
    "plt.xlabel('x - axis')\n",
    "# Set the y axis label of the current axis.\n",
    "plt.ylabel('y - axis')\n",
    "# Set a title of the current axes.\n",
    "plt.title('Predicitons vs Actual')\n",
    "# show a legend on the plot\n",
    "plt.legend()\n",
    "# Display a figure.\n",
    "plt.show()"
   ]
  },
  {
   "cell_type": "code",
   "execution_count": 127,
   "metadata": {
    "executionInfo": {
     "elapsed": 12439,
     "status": "ok",
     "timestamp": 1612841487997,
     "user": {
      "displayName": "Subha Fernando",
      "photoUrl": "",
      "userId": "09410483156944025816"
     },
     "user_tz": -330
    },
    "id": "N4oAJic4tyYa"
   },
   "outputs": [],
   "source": [
    "#Disable the Trasnformation and check the model accuracy"
   ]
  },
  {
   "cell_type": "code",
   "execution_count": 128,
   "metadata": {
    "executionInfo": {
     "elapsed": 12437,
     "status": "ok",
     "timestamp": 1612841487998,
     "user": {
      "displayName": "Subha Fernando",
      "photoUrl": "",
      "userId": "09410483156944025816"
     },
     "user_tz": -330
    },
    "id": "Q7Z_oZiFzTsJ"
   },
   "outputs": [],
   "source": [
    "#Disable the SVD abd the check the model accuracy"
   ]
  },
  {
   "cell_type": "markdown",
   "metadata": {
    "id": "1fWF-kP7BP7M"
   },
   "source": [
    "Linear Regression with Basis Functions"
   ]
  },
  {
   "cell_type": "code",
   "execution_count": 129,
   "metadata": {
    "colab": {
     "base_uri": "https://localhost:8080/",
     "height": 1000
    },
    "executionInfo": {
     "elapsed": 14627,
     "status": "ok",
     "timestamp": 1612841490191,
     "user": {
      "displayName": "Subha Fernando",
      "photoUrl": "",
      "userId": "09410483156944025816"
     },
     "user_tz": -330
    },
    "id": "lpEFrT91BTMZ",
    "outputId": "757b922a-4862-430b-ef66-2fc60556d3e6"
   },
   "outputs": [
    {
     "name": "stdout",
     "output_type": "stream",
     "text": [
      ".. _boston_dataset:\n",
      "\n",
      "Boston house prices dataset\n",
      "---------------------------\n",
      "\n",
      "**Data Set Characteristics:**  \n",
      "\n",
      "    :Number of Instances: 506 \n",
      "\n",
      "    :Number of Attributes: 13 numeric/categorical predictive. Median Value (attribute 14) is usually the target.\n",
      "\n",
      "    :Attribute Information (in order):\n",
      "        - CRIM     per capita crime rate by town\n",
      "        - ZN       proportion of residential land zoned for lots over 25,000 sq.ft.\n",
      "        - INDUS    proportion of non-retail business acres per town\n",
      "        - CHAS     Charles River dummy variable (= 1 if tract bounds river; 0 otherwise)\n",
      "        - NOX      nitric oxides concentration (parts per 10 million)\n",
      "        - RM       average number of rooms per dwelling\n",
      "        - AGE      proportion of owner-occupied units built prior to 1940\n",
      "        - DIS      weighted distances to five Boston employment centres\n",
      "        - RAD      index of accessibility to radial highways\n",
      "        - TAX      full-value property-tax rate per $10,000\n",
      "        - PTRATIO  pupil-teacher ratio by town\n",
      "        - B        1000(Bk - 0.63)^2 where Bk is the proportion of blacks by town\n",
      "        - LSTAT    % lower status of the population\n",
      "        - MEDV     Median value of owner-occupied homes in $1000's\n",
      "\n",
      "    :Missing Attribute Values: None\n",
      "\n",
      "    :Creator: Harrison, D. and Rubinfeld, D.L.\n",
      "\n",
      "This is a copy of UCI ML housing dataset.\n",
      "https://archive.ics.uci.edu/ml/machine-learning-databases/housing/\n",
      "\n",
      "\n",
      "This dataset was taken from the StatLib library which is maintained at Carnegie Mellon University.\n",
      "\n",
      "The Boston house-price data of Harrison, D. and Rubinfeld, D.L. 'Hedonic\n",
      "prices and the demand for clean air', J. Environ. Economics & Management,\n",
      "vol.5, 81-102, 1978.   Used in Belsley, Kuh & Welsch, 'Regression diagnostics\n",
      "...', Wiley, 1980.   N.B. Various transformations are used in the table on\n",
      "pages 244-261 of the latter.\n",
      "\n",
      "The Boston house-price data has been used in many machine learning papers that address regression\n",
      "problems.   \n",
      "     \n",
      ".. topic:: References\n",
      "\n",
      "   - Belsley, Kuh & Welsch, 'Regression diagnostics: Identifying Influential Data and Sources of Collinearity', Wiley, 1980. 244-261.\n",
      "   - Quinlan,R. (1993). Combining Instance-Based and Model-Based Learning. In Proceedings on the Tenth International Conference of Machine Learning, 236-243, University of Massachusetts, Amherst. Morgan Kaufmann.\n",
      "\n"
     ]
    },
    {
     "data": {
      "image/png": "[encoded data removed]",
      "text/plain": [
       "<Figure size 432x288 with 16 Axes>"
      ]
     },
     "metadata": {
      "needs_background": "light",
      "tags": []
     },
     "output_type": "display_data"
    }
   ],
   "source": [
    "from sklearn.preprocessing import PolynomialFeatures\n",
    "import pandas as pd\n",
    "from sklearn import linear_model\n",
    "from sklearn import datasets\n",
    "import numpy as np\n",
    "\n",
    "data = datasets.load_boston()\n",
    "print(data.DESCR)\n",
    "\n",
    "# define the data/predictors as the pre-set feature names  \n",
    "df = pd.DataFrame(data.data, columns=data.feature_names)\n",
    "\n",
    "# Put the target (housing value -- MEDV) in another DataFrame\n",
    "target = pd.DataFrame(data.target, columns=[\"MEDV\"]) \n",
    "\n",
    "trans = PolynomialFeatures(degree=3)\n",
    "X = df.copy()\n",
    "#Do the  trasnformations for required features\n",
    "from sklearn.preprocessing import FunctionTransformer\n",
    "logarithm_transformer = FunctionTransformer(np.log, validate=True)\n",
    "\n",
    "# apply the transformation to your data\n",
    "columns = ['DIS', 'LSTAT']\n",
    "data_new = logarithm_transformer.transform(X[columns])\n",
    "X['DIS'] = data_new[:, 0]\n",
    "X['LSTAT'] = data_new[:,1]\n",
    "\n",
    "X.hist()\n",
    "y_true = target"
   ]
  },
  {
   "cell_type": "code",
   "execution_count": 130,
   "metadata": {
    "colab": {
     "base_uri": "https://localhost:8080/"
    },
    "executionInfo": {
     "elapsed": 14624,
     "status": "ok",
     "timestamp": 1612841490192,
     "user": {
      "displayName": "Subha Fernando",
      "photoUrl": "",
      "userId": "09410483156944025816"
     },
     "user_tz": -330
    },
    "id": "WZcKQ3-xBj0R",
    "outputId": "a859b0a6-c5e9-43d8-cbd0-e0e7c46a8891"
   },
   "outputs": [
    {
     "name": "stdout",
     "output_type": "stream",
     "text": [
      "   predicted\n",
      "0  24.112095\n",
      "1  22.156971\n",
      "2  31.451285\n",
      "3  29.427061\n",
      "4  31.378368\n",
      "5  24.237508\n",
      "6  21.839465\n",
      "7  19.998150\n",
      "8  16.295613\n",
      "9  22.412207\n"
     ]
    }
   ],
   "source": [
    "trans = PolynomialFeatures(degree=2)\n",
    "X = trans.fit_transform(X)\n",
    "linear_regressor = linear_model.LinearRegression()  # create object for the class\n",
    "linear_regressor.fit(X, y_true)  # perform linear regression\n",
    "Y_pred = linear_regressor.predict(X)  # make predictions\n",
    "y_hat = pd.DataFrame(Y_pred, columns=[\"predicted\"])\n",
    "print(y_hat.head(10)) #print predictions for first five values"
   ]
  },
  {
   "cell_type": "code",
   "execution_count": 131,
   "metadata": {
    "colab": {
     "base_uri": "https://localhost:8080/"
    },
    "executionInfo": {
     "elapsed": 14622,
     "status": "ok",
     "timestamp": 1612841490193,
     "user": {
      "displayName": "Subha Fernando",
      "photoUrl": "",
      "userId": "09410483156944025816"
     },
     "user_tz": -330
    },
    "id": "PUEFSNsyB6bB",
    "outputId": "2a5c439b-51b1-40c8-8ab6-a2dd23de0f80"
   },
   "outputs": [
    {
     "name": "stdout",
     "output_type": "stream",
     "text": [
      "Test RMSE: 2.287\n"
     ]
    }
   ],
   "source": [
    "from math import sqrt\n",
    "from sklearn.metrics import mean_squared_error\n",
    "\n",
    "rmse = sqrt(mean_squared_error(y_true, y_hat))\n",
    "print('Test RMSE: %.3f' % rmse)"
   ]
  },
  {
   "cell_type": "code",
   "execution_count": 160,
   "metadata": {
    "colab": {
     "base_uri": "https://localhost:8080/",
     "height": 295
    },
    "executionInfo": {
     "elapsed": 2275,
     "status": "ok",
     "timestamp": 1612842139254,
     "user": {
      "displayName": "Subha Fernando",
      "photoUrl": "",
      "userId": "09410483156944025816"
     },
     "user_tz": -330
    },
    "id": "xnPQuUDfCnB2",
    "outputId": "15013a0b-d014-49a8-9f24-58eee00eab17"
   },
   "outputs": [
    {
     "data": {
      "image/png": "[encoded data removed]",
      "text/plain": [
       "<Figure size 432x288 with 1 Axes>"
      ]
     },
     "metadata": {
      "needs_background": "light",
      "tags": []
     },
     "output_type": "display_data"
    }
   ],
   "source": [
    "import matplotlib.pyplot as plt\n",
    "plt.plot(y_hat, label = \"Pred\")\n",
    "plt.plot(y_true, label = \"Actual\")\n",
    "plt.xlabel('x - axis')\n",
    "# Set the y axis label of the current axis.\n",
    "plt.ylabel('y - axis')\n",
    "# Set a title of the current axes.\n",
    "plt.title('Predicitions vs Actual')\n",
    "# show a legend on the plot\n",
    "plt.legend()\n",
    "# Display a figure.\n",
    "plt.show()\n"
   ]
  },
  {
   "cell_type": "markdown",
   "metadata": {
    "id": "q0Y85KfjxhA2"
   },
   "source": [
    "K-Fold Cross Validation"
   ]
  },
  {
   "cell_type": "code",
   "execution_count": 133,
   "metadata": {
    "executionInfo": {
     "elapsed": 14615,
     "status": "ok",
     "timestamp": 1612841490194,
     "user": {
      "displayName": "Subha Fernando",
      "photoUrl": "",
      "userId": "09410483156944025816"
     },
     "user_tz": -330
    },
    "id": "8UrlZolaDxuQ"
   },
   "outputs": [],
   "source": [
    "import pandas as pd\n",
    "from sklearn import datasets, linear_model\n",
    "from sklearn.model_selection import train_test_split\n",
    "from matplotlib import pyplot as plt"
   ]
  },
  {
   "cell_type": "code",
   "execution_count": 134,
   "metadata": {
    "executionInfo": {
     "elapsed": 14611,
     "status": "ok",
     "timestamp": 1612841490194,
     "user": {
      "displayName": "Subha Fernando",
      "photoUrl": "",
      "userId": "09410483156944025816"
     },
     "user_tz": -330
    },
    "id": "v3FnOmRgxj7s"
   },
   "outputs": [],
   "source": [
    "diabetes = datasets.load_diabetes() # Call the diabetes dataset from sklearn\n",
    "columns = \"age sex bmi map tc ldl hdl tch ltg glu\".split() # Declare the columns names\n",
    "df = pd.DataFrame(diabetes.data, columns=columns) # load the dataset as a pandas data frame\n",
    "y = diabetes.target # define the target variable (dependent variable) as y"
   ]
  },
  {
   "cell_type": "code",
   "execution_count": 135,
   "metadata": {
    "colab": {
     "base_uri": "https://localhost:8080/"
    },
    "executionInfo": {
     "elapsed": 14609,
     "status": "ok",
     "timestamp": 1612841490195,
     "user": {
      "displayName": "Subha Fernando",
      "photoUrl": "",
      "userId": "09410483156944025816"
     },
     "user_tz": -330
    },
    "id": "G3lheToMx0Yb",
    "outputId": "8a6377a8-f08a-4144-b88c-7e840ed4ec5d"
   },
   "outputs": [
    {
     "name": "stdout",
     "output_type": "stream",
     "text": [
      "(353, 10) (353,)\n",
      "(89, 10) (89,)\n"
     ]
    }
   ],
   "source": [
    "# create training and testing vars\n",
    "X_train, X_test, y_train, y_test = train_test_split(df, y, test_size=0.2)\n",
    "print(X_train.shape, y_train.shape)\n",
    "print(X_test.shape, y_test.shape)\n"
   ]
  },
  {
   "cell_type": "code",
   "execution_count": 136,
   "metadata": {
    "executionInfo": {
     "elapsed": 14605,
     "status": "ok",
     "timestamp": 1612841490195,
     "user": {
      "displayName": "Subha Fernando",
      "photoUrl": "",
      "userId": "09410483156944025816"
     },
     "user_tz": -330
    },
    "id": "vDtoIuBhx-fa"
   },
   "outputs": [],
   "source": [
    "# fit a model\n",
    "lm = linear_model.LinearRegression()\n",
    "model = lm.fit(X_train, y_train)\n",
    "y_hat = lm.predict(X_test)"
   ]
  },
  {
   "cell_type": "code",
   "execution_count": 137,
   "metadata": {
    "colab": {
     "base_uri": "https://localhost:8080/",
     "height": 295
    },
    "executionInfo": {
     "elapsed": 15776,
     "status": "ok",
     "timestamp": 1612841491369,
     "user": {
      "displayName": "Subha Fernando",
      "photoUrl": "",
      "userId": "09410483156944025816"
     },
     "user_tz": -330
    },
    "id": "7V7_VW7pyFeq",
    "outputId": "eb8f880e-e3d2-47d5-ccd5-eec21d47064a"
   },
   "outputs": [
    {
     "data": {
      "image/png": "[encoded data removed]",
      "text/plain": [
       "<Figure size 432x288 with 1 Axes>"
      ]
     },
     "metadata": {
      "needs_background": "light",
      "tags": []
     },
     "output_type": "display_data"
    }
   ],
   "source": [
    "import matplotlib.pyplot as plt\n",
    "plt.plot(y_hat, label = \"Pred\")\n",
    "plt.plot(y_test, label = \"Actual\")\n",
    "plt.xlabel('x - axis')\n",
    "# Set the y axis label of the current axis.\n",
    "plt.ylabel('y - axis')\n",
    "# Set a title of the current axes.\n",
    "plt.title('Predicitons vs Actual')\n",
    "# show a legend on the plot\n",
    "plt.legend()\n",
    "# Display a figure.\n",
    "plt.show()"
   ]
  },
  {
   "cell_type": "code",
   "execution_count": 138,
   "metadata": {
    "executionInfo": {
     "elapsed": 15775,
     "status": "ok",
     "timestamp": 1612841491370,
     "user": {
      "displayName": "Subha Fernando",
      "photoUrl": "",
      "userId": "09410483156944025816"
     },
     "user_tz": -330
    },
    "id": "3Z5wu4BzyIjq"
   },
   "outputs": [],
   "source": [
    "# Necessary imports: \n",
    "from sklearn.model_selection import cross_val_score, cross_val_predict\n",
    "from sklearn import metrics"
   ]
  },
  {
   "cell_type": "code",
   "execution_count": 139,
   "metadata": {
    "colab": {
     "base_uri": "https://localhost:8080/"
    },
    "executionInfo": {
     "elapsed": 15772,
     "status": "ok",
     "timestamp": 1612841491371,
     "user": {
      "displayName": "Subha Fernando",
      "photoUrl": "",
      "userId": "09410483156944025816"
     },
     "user_tz": -330
    },
    "id": "CKcHfpZeywVk",
    "outputId": "e815c1fb-9081-43c4-d19c-88a60b05f729"
   },
   "outputs": [
    {
     "name": "stdout",
     "output_type": "stream",
     "text": [
      "Cross-validated scores: [0.4554861  0.46138572 0.40094084 0.55220736 0.43942775 0.56923406]\n"
     ]
    }
   ],
   "source": [
    "# Perform 6-fold cross validation\n",
    "scores = cross_val_score(model, df, y, cv=6)\n",
    "print(\"Cross-validated scores:\", scores)"
   ]
  },
  {
   "cell_type": "code",
   "execution_count": 140,
   "metadata": {
    "colab": {
     "base_uri": "https://localhost:8080/"
    },
    "executionInfo": {
     "elapsed": 15769,
     "status": "ok",
     "timestamp": 1612841491371,
     "user": {
      "displayName": "Subha Fernando",
      "photoUrl": "",
      "userId": "09410483156944025816"
     },
     "user_tz": -330
    },
    "id": "m86FCYVDzXma",
    "outputId": "57bb213e-6dd4-4a6d-f250-68ffd3812fdd"
   },
   "outputs": [
    {
     "name": "stdout",
     "output_type": "stream",
     "text": [
      "Cross-Predicted Accuracy: 0.4908065838640776\n"
     ]
    }
   ],
   "source": [
    "predictions = cross_val_predict(model, df, y, cv=6)\n",
    "accuracy = metrics.r2_score(y, predictions)\n",
    "print(\"Cross-Predicted Accuracy:\", accuracy)"
   ]
  },
  {
   "cell_type": "markdown",
   "metadata": {
    "id": "7W4uw0Pm2ZoZ"
   },
   "source": [
    "**Making Pipeline** https://aiaspirant.com/machine-learning-pipeline/"
   ]
  },
  {
   "cell_type": "code",
   "execution_count": 141,
   "metadata": {
    "executionInfo": {
     "elapsed": 15766,
     "status": "ok",
     "timestamp": 1612841491372,
     "user": {
      "displayName": "Subha Fernando",
      "photoUrl": "",
      "userId": "09410483156944025816"
     },
     "user_tz": -330
    },
    "id": "Gj6obR8hzdN6"
   },
   "outputs": [],
   "source": [
    "from sklearn.datasets import load_iris\n",
    "from sklearn.preprocessing import StandardScaler\n",
    "from sklearn.linear_model import LogisticRegression\n",
    "from sklearn.model_selection import train_test_split\n",
    "from sklearn.pipeline import Pipeline"
   ]
  },
  {
   "cell_type": "code",
   "execution_count": 142,
   "metadata": {
    "executionInfo": {
     "elapsed": 15763,
     "status": "ok",
     "timestamp": 1612841491372,
     "user": {
      "displayName": "Subha Fernando",
      "photoUrl": "",
      "userId": "09410483156944025816"
     },
     "user_tz": -330
    },
    "id": "jCHteq3E2icx"
   },
   "outputs": [],
   "source": [
    "iris = load_iris()\n",
    "X = iris.data\n",
    "y = iris.target\n",
    " \n",
    "X_train, X_test, y_train, y_test = train_test_split(X, y, test_size=0.3, random_state=43)"
   ]
  },
  {
   "cell_type": "markdown",
   "metadata": {
    "id": "eZTgyqGe2nY8"
   },
   "source": [
    "let’s create a simple pipeline using the Pipeline() class."
   ]
  },
  {
   "cell_type": "code",
   "execution_count": 143,
   "metadata": {
    "colab": {
     "base_uri": "https://localhost:8080/"
    },
    "executionInfo": {
     "elapsed": 15761,
     "status": "ok",
     "timestamp": 1612841491372,
     "user": {
      "displayName": "Subha Fernando",
      "photoUrl": "",
      "userId": "09410483156944025816"
     },
     "user_tz": -330
    },
    "id": "gASPA1KH2kp4",
    "outputId": "dbf90a57-0e53-4eb9-c1b5-a8e4adc77520"
   },
   "outputs": [
    {
     "data": {
      "text/plain": [
       "Pipeline(memory=None,\n",
       "         steps=[('scaler',\n",
       "                 StandardScaler(copy=True, with_mean=True, with_std=True)),\n",
       "                ('clf',\n",
       "                 LogisticRegression(C=1.0, class_weight=None, dual=False,\n",
       "                                    fit_intercept=True, intercept_scaling=1,\n",
       "                                    l1_ratio=None, max_iter=100,\n",
       "                                    multi_class='auto', n_jobs=None,\n",
       "                                    penalty='l2', random_state=None,\n",
       "                                    solver='lbfgs', tol=0.0001, verbose=0,\n",
       "                                    warm_start=False))],\n",
       "         verbose=False)"
      ]
     },
     "execution_count": 143,
     "metadata": {
      "tags": []
     },
     "output_type": "execute_result"
    }
   ],
   "source": [
    "pipe = Pipeline([('scaler', StandardScaler()), ('clf',LogisticRegression())])\n",
    "#We can fit the pipeline to the data\n",
    "pipe.fit(X_train, y_train)"
   ]
  },
  {
   "cell_type": "markdown",
   "metadata": {
    "id": "TCY4SZPb25lj"
   },
   "source": [
    "When the pipe.fit is called it first transforms the data using StandardScaler and then, the samples are passed on to the estimator, Logistic Regressor"
   ]
  },
  {
   "cell_type": "code",
   "execution_count": 144,
   "metadata": {
    "colab": {
     "base_uri": "https://localhost:8080/"
    },
    "executionInfo": {
     "elapsed": 15757,
     "status": "ok",
     "timestamp": 1612841491373,
     "user": {
      "displayName": "Subha Fernando",
      "photoUrl": "",
      "userId": "09410483156944025816"
     },
     "user_tz": -330
    },
    "id": "FS8tD7fn2xSY",
    "outputId": "0e61c8f6-ac5f-4159-90b8-aa7027de0920"
   },
   "outputs": [
    {
     "name": "stdout",
     "output_type": "stream",
     "text": [
      "0.9555555555555556\n"
     ]
    }
   ],
   "source": [
    "score = pipe.score(X_test, y_test)\n",
    "print(score)"
   ]
  },
  {
   "cell_type": "markdown",
   "metadata": {
    "id": "OxroAotP3CLm"
   },
   "source": [
    "The other way to create a pipeline is by using make_pipeline. The difference in usage between Pipeline and make_pipeline is that in make_pipeline the names of the steps are generated automatically, basically, the name of the steps is the class name of the estimators or transformers in lower case."
   ]
  },
  {
   "cell_type": "code",
   "execution_count": 145,
   "metadata": {
    "colab": {
     "base_uri": "https://localhost:8080/"
    },
    "executionInfo": {
     "elapsed": 15753,
     "status": "ok",
     "timestamp": 1612841491373,
     "user": {
      "displayName": "Subha Fernando",
      "photoUrl": "",
      "userId": "09410483156944025816"
     },
     "user_tz": -330
    },
    "id": "0Cb-NQF22_Gn",
    "outputId": "ad7b7b76-3ee6-4121-edf8-48c06ca7f2b0"
   },
   "outputs": [
    {
     "name": "stdout",
     "output_type": "stream",
     "text": [
      "0.9555555555555556\n"
     ]
    }
   ],
   "source": [
    "from sklearn.pipeline import make_pipeline\n",
    "pipe2 = make_pipeline(StandardScaler(), LogisticRegression())\n",
    "print(pipe2.fit(X_train, y_train).score(X_test, y_test))"
   ]
  },
  {
   "cell_type": "markdown",
   "metadata": {
    "id": "tHjT1yxu3Pm_"
   },
   "source": [
    "**We can also test multiple models in a pipeline**"
   ]
  },
  {
   "cell_type": "code",
   "execution_count": 146,
   "metadata": {
    "colab": {
     "base_uri": "https://localhost:8080/"
    },
    "executionInfo": {
     "elapsed": 15751,
     "status": "ok",
     "timestamp": 1612841491374,
     "user": {
      "displayName": "Subha Fernando",
      "photoUrl": "",
      "userId": "09410483156944025816"
     },
     "user_tz": -330
    },
    "id": "EFkrtuwQ3MKo",
    "outputId": "86ea315a-1d1b-4575-ffea-390aada7ca3e"
   },
   "outputs": [
    {
     "name": "stdout",
     "output_type": "stream",
     "text": [
      "KNeighborsClassifier(algorithm='auto', leaf_size=30, metric='minkowski',\n",
      "                     metric_params=None, n_jobs=None, n_neighbors=5, p=2,\n",
      "                     weights='uniform')\n",
      "0.9555555555555556\n",
      "SVC(C=1.0, break_ties=False, cache_size=200, class_weight=None, coef0=0.0,\n",
      "    decision_function_shape='ovr', degree=3, gamma='scale', kernel='rbf',\n",
      "    max_iter=-1, probability=False, random_state=None, shrinking=True,\n",
      "    tol=0.001, verbose=False)\n",
      "0.9777777777777777\n",
      "LogisticRegression(C=1.0, class_weight=None, dual=False, fit_intercept=True,\n",
      "                   intercept_scaling=1, l1_ratio=None, max_iter=100,\n",
      "                   multi_class='auto', n_jobs=None, penalty='l2',\n",
      "                   random_state=None, solver='lbfgs', tol=0.0001, verbose=0,\n",
      "                   warm_start=False)\n",
      "0.9555555555555556\n"
     ]
    }
   ],
   "source": [
    "from sklearn.svm import SVC\n",
    "from sklearn.linear_model import LogisticRegression\n",
    "from sklearn.neighbors import KNeighborsClassifier\n",
    " \n",
    "classifiers = [\n",
    "    KNeighborsClassifier(),\n",
    "    SVC(),\n",
    "    LogisticRegression()\n",
    "    ]\n",
    " \n",
    "for clf in classifiers:\n",
    "    pipe3 = Pipeline([('scaler', StandardScaler()), ('clf',clf)])\n",
    "    pipe3.fit(X_train, y_train)\n",
    "    score = pipe3.score(X_test, y_test)\n",
    "    print(clf)\n",
    "    print(score)"
   ]
  },
  {
   "cell_type": "markdown",
   "metadata": {
    "id": "-qagP3o93imR"
   },
   "source": [
    "**Using Pipeline with GridSearchCV** In order to find the best configuration of the hyperparameters, we can also use the pipeline with GridSearchCV."
   ]
  },
  {
   "cell_type": "code",
   "execution_count": 147,
   "metadata": {
    "colab": {
     "base_uri": "https://localhost:8080/"
    },
    "executionInfo": {
     "elapsed": 16829,
     "status": "ok",
     "timestamp": 1612841492456,
     "user": {
      "displayName": "Subha Fernando",
      "photoUrl": "",
      "userId": "09410483156944025816"
     },
     "user_tz": -330
    },
    "id": "CXlHRwAY3VhK",
    "outputId": "bac258d1-9321-42e0-c216-572de3799684"
   },
   "outputs": [
    {
     "name": "stdout",
     "output_type": "stream",
     "text": [
      "Best Parameter: {'clf__n_neighbors': 13, 'pca__n_components': 4}\n",
      "Best Score: 0.9523809523809523\n"
     ]
    }
   ],
   "source": [
    "#The grid search model searches throughout the pipeline for the ideal set of parameters\n",
    "from sklearn.model_selection import GridSearchCV\n",
    "from sklearn.decomposition import PCA\n",
    " \n",
    "pipe4 = Pipeline([('scaler', StandardScaler()), ('pca', PCA()), ('clf',KNeighborsClassifier())])\n",
    " \n",
    "param_grid = {\n",
    "    'pca__n_components': [2,3,4],\n",
    "    'clf__n_neighbors': np.arange(1,30,2)\n",
    "    }\n",
    " \n",
    "gcv = GridSearchCV(pipe4, param_grid, n_jobs=-1)\n",
    "gcv.fit(X_train, y_train)\n",
    " \n",
    "print('Best Parameter:', gcv.best_params_)\n",
    "print('Best Score:', gcv.best_score_)"
   ]
  },
  {
   "cell_type": "markdown",
   "metadata": {
    "id": "ALMGJLi6r5UQ"
   },
   "source": [
    "#L1 and L2 Regularizer"
   ]
  },
  {
   "cell_type": "code",
   "execution_count": 148,
   "metadata": {
    "executionInfo": {
     "elapsed": 16825,
     "status": "ok",
     "timestamp": 1612841492457,
     "user": {
      "displayName": "Subha Fernando",
      "photoUrl": "",
      "userId": "09410483156944025816"
     },
     "user_tz": -330
    },
    "id": "YE5oQGwd30Ti"
   },
   "outputs": [],
   "source": [
    "from sklearn import linear_model\n",
    "from sklearn import datasets\n",
    "from sklearn import preprocessing\n",
    "import pandas as pd\n",
    "import numpy as np\n",
    "from sklearn.preprocessing import StandardScaler"
   ]
  },
  {
   "cell_type": "code",
   "execution_count": 149,
   "metadata": {
    "colab": {
     "base_uri": "https://localhost:8080/"
    },
    "executionInfo": {
     "elapsed": 16822,
     "status": "ok",
     "timestamp": 1612841492457,
     "user": {
      "displayName": "Subha Fernando",
      "photoUrl": "",
      "userId": "09410483156944025816"
     },
     "user_tz": -330
    },
    "id": "upxvGv4PseL5",
    "outputId": "5a34075c-c41b-45fc-88bb-025a8bba39de"
   },
   "outputs": [
    {
     "name": "stdout",
     "output_type": "stream",
     "text": [
      ".. _boston_dataset:\n",
      "\n",
      "Boston house prices dataset\n",
      "---------------------------\n",
      "\n",
      "**Data Set Characteristics:**  \n",
      "\n",
      "    :Number of Instances: 506 \n",
      "\n",
      "    :Number of Attributes: 13 numeric/categorical predictive. Median Value (attribute 14) is usually the target.\n",
      "\n",
      "    :Attribute Information (in order):\n",
      "        - CRIM     per capita crime rate by town\n",
      "        - ZN       proportion of residential land zoned for lots over 25,000 sq.ft.\n",
      "        - INDUS    proportion of non-retail business acres per town\n",
      "        - CHAS     Charles River dummy variable (= 1 if tract bounds river; 0 otherwise)\n",
      "        - NOX      nitric oxides concentration (parts per 10 million)\n",
      "        - RM       average number of rooms per dwelling\n",
      "        - AGE      proportion of owner-occupied units built prior to 1940\n",
      "        - DIS      weighted distances to five Boston employment centres\n",
      "        - RAD      index of accessibility to radial highways\n",
      "        - TAX      full-value property-tax rate per $10,000\n",
      "        - PTRATIO  pupil-teacher ratio by town\n",
      "        - B        1000(Bk - 0.63)^2 where Bk is the proportion of blacks by town\n",
      "        - LSTAT    % lower status of the population\n",
      "        - MEDV     Median value of owner-occupied homes in $1000's\n",
      "\n",
      "    :Missing Attribute Values: None\n",
      "\n",
      "    :Creator: Harrison, D. and Rubinfeld, D.L.\n",
      "\n",
      "This is a copy of UCI ML housing dataset.\n",
      "https://archive.ics.uci.edu/ml/machine-learning-databases/housing/\n",
      "\n",
      "\n",
      "This dataset was taken from the StatLib library which is maintained at Carnegie Mellon University.\n",
      "\n",
      "The Boston house-price data of Harrison, D. and Rubinfeld, D.L. 'Hedonic\n",
      "prices and the demand for clean air', J. Environ. Economics & Management,\n",
      "vol.5, 81-102, 1978.   Used in Belsley, Kuh & Welsch, 'Regression diagnostics\n",
      "...', Wiley, 1980.   N.B. Various transformations are used in the table on\n",
      "pages 244-261 of the latter.\n",
      "\n",
      "The Boston house-price data has been used in many machine learning papers that address regression\n",
      "problems.   \n",
      "     \n",
      ".. topic:: References\n",
      "\n",
      "   - Belsley, Kuh & Welsch, 'Regression diagnostics: Identifying Influential Data and Sources of Collinearity', Wiley, 1980. 244-261.\n",
      "   - Quinlan,R. (1993). Combining Instance-Based and Model-Based Learning. In Proceedings on the Tenth International Conference of Machine Learning, 236-243, University of Massachusetts, Amherst. Morgan Kaufmann.\n",
      "\n"
     ]
    },
    {
     "data": {
      "text/plain": [
       "dtype('float64')"
      ]
     },
     "execution_count": 149,
     "metadata": {
      "tags": []
     },
     "output_type": "execute_result"
    }
   ],
   "source": [
    "data_set = datasets.load_boston()\n",
    "print(data_set.DESCR)\n",
    "data_set.feature_names\n",
    "data_set.data.dtype"
   ]
  },
  {
   "cell_type": "code",
   "execution_count": 150,
   "metadata": {
    "colab": {
     "base_uri": "https://localhost:8080/"
    },
    "executionInfo": {
     "elapsed": 16820,
     "status": "ok",
     "timestamp": 1612841492458,
     "user": {
      "displayName": "Subha Fernando",
      "photoUrl": "",
      "userId": "09410483156944025816"
     },
     "user_tz": -330
    },
    "id": "-fSd-bpVse5t",
    "outputId": "0716e868-87e2-43ee-ab12-3d5c13a4c43a"
   },
   "outputs": [
    {
     "data": {
      "text/plain": [
       "array([[-3.34146559,  1.56131306, -1.0573509 , ...,  1.39719915,\n",
       "        -0.30214003,  0.63367242],\n",
       "       [-0.84110638, -1.4479142 , -0.60799171, ..., -0.18476717,\n",
       "         0.18327104,  0.13869466],\n",
       "       [-1.8366138 ,  1.17335969,  0.88050684, ..., -0.27050059,\n",
       "         0.19469689,  0.0299429 ],\n",
       "       ...,\n",
       "       [-2.52630486,  0.04834192, -0.10534399, ..., -0.39759202,\n",
       "         0.00413106,  0.03378993],\n",
       "       [ 0.16565777, -1.05933723,  0.28266757, ..., -0.05004815,\n",
       "        -0.31315019,  0.44380504],\n",
       "       [-1.73712851,  1.46851155,  2.57969123, ..., -0.54824075,\n",
       "        -0.62455101,  0.60353151]])"
      ]
     },
     "execution_count": 150,
     "metadata": {
      "tags": []
     },
     "output_type": "execute_result"
    }
   ],
   "source": [
    "from sklearn.preprocessing import FunctionTransformer\n",
    "from sklearn.decomposition import TruncatedSVD\n",
    "from sklearn.model_selection import train_test_split, cross_val_score\n",
    "\n",
    "# define the data/predictors as the pre-set feature names  \n",
    "df = pd.DataFrame(data_set.data, columns=data_set.feature_names)\n",
    "# Put the target (housing value -- MEDV) in another DataFrame\n",
    "target = pd.DataFrame(data_set.target, columns=[\"MEDV\"])\n",
    "X = df.copy() #dataset has been copied to  X\n",
    "y = target\n",
    "\n",
    "# Check any missing values are available and drop them in the X\n",
    "X.isnull().values.any()  #No null values\n",
    "\n",
    "#Do the  trasnformations for required features\n",
    "logarithm_transformer = FunctionTransformer(np.log, validate=True)\n",
    "\n",
    "# apply the transformation to your data\n",
    "columns = ['DIS', 'LSTAT']\n",
    "data_new = logarithm_transformer.transform(X[columns])\n",
    "X['DIS'] = data_new[:, 0]\n",
    "X['LSTAT'] = data_new[:,1]\n",
    "\n",
    "from sklearn.preprocessing import FunctionTransformer\n",
    "exponential_transformer = FunctionTransformer(np.exp)\n",
    "\n",
    "data_new = exponential_transformer.transform(X['AGE'])\n",
    "X['AGE'] = data_new\n",
    "\n",
    "#Conduct the Correlation Matrix Calculations to test the Feature independence\n",
    "X.dtypes\n",
    "#Cording Categorical Features\n",
    "X['CHAS'] = X['CHAS'].astype('category').cat.codes\n",
    "X.dtypes\n",
    "\n",
    "#Removing Categorical Features before the standardization\n",
    "columns_value = data_set.feature_names\n",
    "index = np.argwhere(columns_value == \"CHAS\")\n",
    "columns_value_new = np.delete(columns_value, index)\n",
    "#columns_value_new\n",
    "\n",
    "#Applying Standardization \n",
    "#step 1 - Calling the standard scaler\n",
    "scaler = StandardScaler() \n",
    "\n",
    "#Transformation of other features\n",
    "X_Except = pd.DataFrame(X, columns=columns_value_new)\n",
    "scaler.fit(X_Except)\n",
    "X_Scaled = scaler.transform(X_Except)\n",
    "\n",
    "X_Scaled_Except = pd.DataFrame(X_Scaled, columns=columns_value_new)\n",
    "X_Scaled_Except.head(10)\n",
    "\n",
    "#Joining the CHAS to the X again\n",
    "X_standard = X_Scaled_Except.join(X['CHAS'])\n",
    "X = X_standard\n",
    "\n",
    "#SVD \n",
    "svd = TruncatedSVD(n_components=10)\n",
    "X_transformed = svd.fit_transform(X)\n",
    "X = X_transformed\n",
    "\n",
    "X_train, X_test, y_train, y_test = train_test_split(X, y, test_size=0.25)\n",
    "X_train"
   ]
  },
  {
   "cell_type": "markdown",
   "metadata": {
    "id": "LzP2_FZSu0EP"
   },
   "source": [
    "Step 1- Linear Regression"
   ]
  },
  {
   "cell_type": "code",
   "execution_count": 151,
   "metadata": {
    "colab": {
     "base_uri": "https://localhost:8080/"
    },
    "executionInfo": {
     "elapsed": 16805,
     "status": "ok",
     "timestamp": 1612841492459,
     "user": {
      "displayName": "Subha Fernando",
      "photoUrl": "",
      "userId": "09410483156944025816"
     },
     "user_tz": -330
    },
    "id": "xSkx0Rzntbx3",
    "outputId": "9ec9e174-9efc-4916-e301-706f6cb68135"
   },
   "outputs": [
    {
     "name": "stdout",
     "output_type": "stream",
     "text": [
      "0.7493296000648151\n"
     ]
    }
   ],
   "source": [
    "from sklearn.linear_model import LinearRegression, Ridge, Lasso \n",
    "linearModel = LinearRegression() \n",
    "linearModel.fit(X_train, y_train) \n",
    "\n",
    "# Evaluating the Linear Regression model \n",
    "print(linearModel.score(X_test, y_test)) "
   ]
  },
  {
   "cell_type": "markdown",
   "metadata": {
    "id": "40lNoVbhvDH2"
   },
   "source": [
    "Step 2- Ridge Regression - #testing $\\delta$ with cross validation"
   ]
  },
  {
   "cell_type": "code",
   "execution_count": 152,
   "metadata": {
    "colab": {
     "base_uri": "https://localhost:8080/"
    },
    "executionInfo": {
     "elapsed": 17453,
     "status": "ok",
     "timestamp": 1612841493119,
     "user": {
      "displayName": "Subha Fernando",
      "photoUrl": "",
      "userId": "09410483156944025816"
     },
     "user_tz": -330
    },
    "id": "TVZkVK93u6k5",
    "outputId": "b08e5315-22e5-4415-d67a-8e536417a261"
   },
   "outputs": [
    {
     "name": "stdout",
     "output_type": "stream",
     "text": [
      "27.0 : 64.75517540682115\n",
      "27.900000000000002 : 64.65506177979594\n",
      "28.8 : 64.55456390705115\n",
      "29.7 : 64.45374878773056\n",
      "30.6 : 64.35267700320738\n",
      "31.5 : 64.25140344119757\n",
      "32.4 : 64.14997792345103\n",
      "33.300000000000004 : 64.0484457515908\n",
      "34.2 : 63.94684818323426\n",
      "35.1 : 63.845222848538405\n",
      "36.0 : 63.74360411567661\n",
      "36.9 : 63.642023412407426\n",
      "37.800000000000004 : 63.540509509781195\n",
      "38.7 : 63.439088773106256\n",
      "39.6 : 63.337785384524906\n",
      "40.5 : 63.23662154090647\n",
      "41.4 : 63.13561763022445\n",
      "42.300000000000004 : 63.034792389130914\n",
      "43.2 : 62.93416304405902\n",
      "44.1 : 62.83374543786013\n"
     ]
    }
   ],
   "source": [
    "from statistics import mean \n",
    "# List to maintain the different cross-validation scores \n",
    "cross_val_scores_ridge = [] \n",
    "# List to maintain the different values of delta \n",
    "delta = [] \n",
    "# Loop to compute the different values of cross-validation scores \n",
    "for i in range(30, 50): \n",
    "    ridgeModel = Ridge(alpha = i * 0.9) \n",
    "    ridgeModel.fit(X_train, y_train) \n",
    "    scores = cross_val_score(ridgeModel, X_test, y_test, cv = 5) #k-fold=5\n",
    "    avg_cross_val_score = mean(scores)*100\n",
    "    cross_val_scores_ridge.append(avg_cross_val_score) \n",
    "    delta.append(i * 0.9) \n",
    "  \n",
    "# Loop to print the different values of cross-validation scores \n",
    "for i in range(0, len(delta)): \n",
    "    print(str(delta[i])+' : '+str(cross_val_scores_ridge[i])) "
   ]
  },
  {
   "cell_type": "code",
   "execution_count": 153,
   "metadata": {
    "colab": {
     "base_uri": "https://localhost:8080/"
    },
    "executionInfo": {
     "elapsed": 17445,
     "status": "ok",
     "timestamp": 1612841493120,
     "user": {
      "displayName": "Subha Fernando",
      "photoUrl": "",
      "userId": "09410483156944025816"
     },
     "user_tz": -330
    },
    "id": "JRhvt7k_vzxw",
    "outputId": "7d2b613c-ec1f-426a-ed6c-85ebd4857bf5"
   },
   "outputs": [
    {
     "name": "stdout",
     "output_type": "stream",
     "text": [
      "0.7447376723802044\n"
     ]
    }
   ],
   "source": [
    "# Building and fitting the Ridge Regression model \n",
    "ridgeModelChosen = Ridge(alpha = 34) \n",
    "ridgeModelChosen.fit(X_train, y_train) \n",
    "  \n",
    "# Evaluating the Ridge Regression model \n",
    "print(ridgeModelChosen.score(X_test, y_test)) "
   ]
  },
  {
   "cell_type": "markdown",
   "metadata": {
    "id": "XH1SkrRqzN9O"
   },
   "source": [
    "Step 2- Lasso Regression - #testing  δ  with cross validation"
   ]
  },
  {
   "cell_type": "code",
   "execution_count": 154,
   "metadata": {
    "colab": {
     "base_uri": "https://localhost:8080/"
    },
    "executionInfo": {
     "elapsed": 17439,
     "status": "ok",
     "timestamp": 1612841493120,
     "user": {
      "displayName": "Subha Fernando",
      "photoUrl": "",
      "userId": "09410483156944025816"
     },
     "user_tz": -330
    },
    "id": "M7iAxCl4zNqe",
    "outputId": "c01640c3-77a5-47c4-c6a6-869c8c6d5716"
   },
   "outputs": [
    {
     "name": "stdout",
     "output_type": "stream",
     "text": [
      "0.25 : 63.80215428538578\n",
      "0.5 : 59.84286259200009\n",
      "0.75 : 55.42181115512547\n",
      "1.0 : 52.933035175254204\n",
      "1.25 : 50.94105159073939\n",
      "1.5 : 49.02142550891886\n",
      "1.75 : 46.50546331088833\n",
      "2.0 : 43.41050609653728\n",
      "2.25 : 40.793950297987855\n"
     ]
    }
   ],
   "source": [
    "# List to maintain the cross-validation scores \n",
    "cross_val_scores_lasso = [] \n",
    "  \n",
    "# List to maintain the different values of delta \n",
    "delta = [] \n",
    "  \n",
    "# Loop to compute the cross-validation scores \n",
    "for i in range(1, 10): \n",
    "    lassoModel = Lasso(alpha = i *0.25) \n",
    "    lassoModel.fit(X_train, y_train) \n",
    "    scores = cross_val_score(lassoModel, X_test, y_test, cv = 5) \n",
    "    avg_cross_val_score = mean(scores)*100\n",
    "    cross_val_scores_lasso.append(avg_cross_val_score) \n",
    "    delta.append(i * 0.25) \n",
    "  \n",
    "# Loop to print the different values of cross-validation scores \n",
    "for i in range(0, len(delta)): \n",
    "    print(str(delta[i])+' : '+str(cross_val_scores_lasso[i])) "
   ]
  },
  {
   "cell_type": "code",
   "execution_count": 155,
   "metadata": {
    "colab": {
     "base_uri": "https://localhost:8080/"
    },
    "executionInfo": {
     "elapsed": 17433,
     "status": "ok",
     "timestamp": 1612841493121,
     "user": {
      "displayName": "Subha Fernando",
      "photoUrl": "",
      "userId": "09410483156944025816"
     },
     "user_tz": -330
    },
    "id": "nrTediXMzHDu",
    "outputId": "201c2e58-6e90-43a7-b793-1b2688410dc8"
   },
   "outputs": [
    {
     "name": "stdout",
     "output_type": "stream",
     "text": [
      "0.7032001946575204\n"
     ]
    }
   ],
   "source": [
    "# Building and fitting the Lasso Regression Model \n",
    "lassoModelChosen = Lasso(alpha = 0.5) \n",
    "lassoModelChosen.fit(X_train, y_train) \n",
    "  \n",
    "# Evaluating the Lasso Regression model \n",
    "print(lassoModelChosen.score(X_test, y_test)) "
   ]
  },
  {
   "cell_type": "code",
   "execution_count": 167,
   "metadata": {
    "colab": {
     "base_uri": "https://localhost:8080/",
     "height": 295
    },
    "executionInfo": {
     "elapsed": 1595,
     "status": "ok",
     "timestamp": 1612842295608,
     "user": {
      "displayName": "Subha Fernando",
      "photoUrl": "",
      "userId": "09410483156944025816"
     },
     "user_tz": -330
    },
    "id": "d9JbAgFF04sI",
    "outputId": "31d6d81b-4309-4762-c3c5-528090957901"
   },
   "outputs": [
    {
     "data": {
      "image/png": "[encoded data removed]",
      "text/plain": [
       "<Figure size 432x288 with 1 Axes>"
      ]
     },
     "metadata": {
      "needs_background": "light",
      "tags": []
     },
     "output_type": "display_data"
    }
   ],
   "source": [
    "linear_predictions = linearModel.predict(X)\n",
    "ridge_predictions = ridgeModel.predict(X)\n",
    "lasso_predictions = lassoModel.predict(X)\n",
    "\n",
    "import matplotlib.pyplot as plt\n",
    "plt.plot(linear_predictions, label = \"Linear Pred\")\n",
    "plt.plot(ridge_predictions, label = \"Ridge Pred\")\n",
    "plt.plot(lasso_predictions, label = \"Lasso Pred\")\n",
    "plt.plot(y, label = \"Actual\")\n",
    "plt.xlabel('x - axis')\n",
    "# Set the y axis label of the current axis.\n",
    "plt.ylabel('y - axis')\n",
    "# Set a title of the current axes.\n",
    "plt.title('Predicitions vs. Actual')\n",
    "# show a legend on the plot\n",
    "plt.legend()\n",
    "# Display a figure.\n",
    "plt.show()"
   ]
  },
  {
   "cell_type": "code",
   "execution_count": null,
   "metadata": {
    "id": "QRhsGgMI3KcI"
   },
   "outputs": [],
   "source": []
  }
 ],
 "metadata": {
  "colab": {
   "authorship_tag": "ABX9TyMUBE3NwGgHCYjTTqxuspSe",
   "collapsed_sections": [],
   "name": "week3-DM.ipynb",
   "provenance": []
  },
  "kernelspec": {
   "display_name": "Python 3 (ipykernel)",
   "language": "python",
   "name": "python3"
  },
  "language_info": {
   "codemirror_mode": {
    "name": "ipython",
    "version": 3
   },
   "file_extension": ".py",
   "mimetype": "text/x-python",
   "name": "python",
   "nbconvert_exporter": "python",
   "pygments_lexer": "ipython3",
   "version": "3.9.13"
  }
 },
 "nbformat": 4,
 "nbformat_minor": 1
}
